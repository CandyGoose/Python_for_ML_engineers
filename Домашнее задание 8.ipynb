{
  "cells": [
    {
      "cell_type": "markdown",
      "source": [
        "# Касьяненко Вера"
      ],
      "metadata": {
        "id": "MwONBOrFsuYx"
      },
      "id": "MwONBOrFsuYx"
    },
    {
      "cell_type": "markdown",
      "id": "e4d450c2",
      "metadata": {
        "id": "e4d450c2"
      },
      "source": [
        "# Символьное дифференцирование"
      ]
    },
    {
      "cell_type": "markdown",
      "id": "ca42b161",
      "metadata": {
        "ExecuteTime": {
          "end_time": "2024-11-12T17:23:33.620558Z",
          "start_time": "2024-11-12T17:23:33.612887Z"
        },
        "id": "ca42b161"
      },
      "source": [
        "## Порядок сдачи домашнего"
      ]
    },
    {
      "cell_type": "markdown",
      "id": "1ff1df47",
      "metadata": {
        "id": "1ff1df47"
      },
      "source": [
        "Под каждое домашнее вы создаете отдельную ветку куда вносите все изменения в рамках домашнего. Как только домашнее готово - создаете пулл реквест (обратите внимание что в пулл реквесте должны быть отражены все изменения в рамках домашнего). Ревьювера назначаете из таблицы - https://docs.google.com/spreadsheets/d/1vK6IgEqaqXniUJAQOOspiL_tx3EYTSXW1cUrMHAZFr8/edit?gid=0#gid=0\n",
        "Перед сдачей проверьте код, напишите тесты. Не забудьте про PEP8, например, с помощью flake8. Задание нужно делать в jupyter notebook.\n",
        "\n",
        "**Дедлайн - 18 ноября 10:00**"
      ]
    },
    {
      "cell_type": "markdown",
      "id": "f9fd13a2",
      "metadata": {
        "id": "f9fd13a2"
      },
      "source": [
        "Символьное дифференцирование это инструмент для автоматического вывода формул производных, который открывает возможности для анализа сложных функций, оптимизации процессов и работы с уравнениями. Мы уже на многих занятиях сталкивались с этой темой - давайте попробуем реализовать собственное!"
      ]
    },
    {
      "cell_type": "markdown",
      "id": "cf3ccecf",
      "metadata": {
        "id": "cf3ccecf"
      },
      "source": [
        "## Выражение"
      ]
    },
    {
      "cell_type": "markdown",
      "id": "096fa612",
      "metadata": {
        "id": "096fa612"
      },
      "source": [
        "Создадим основной класс `Expr`, от которого будут наследоваться различные типы выражений, такие как константы, переменные, суммы, произведения и другие. Класс должен содержать методы:\n",
        "* `__call__`, который будет вычислять значение выражения, используя переданный ему контекст (словарь, связывающий имена переменных с их значениями).\n",
        "* `d`, принимающий имя переменной, по которой требуется вычислить производную, и возвращающий выражение, представляющее производную по этой переменной.\n",
        "\n",
        "Эти методы нужно будет переопределить в каждом из подклассов для корректного выполнения операций."
      ]
    },
    {
      "cell_type": "code",
      "execution_count": 1,
      "id": "7c73322e",
      "metadata": {
        "ExecuteTime": {
          "end_time": "2024-11-12T16:51:15.514301Z",
          "start_time": "2024-11-12T16:51:15.489368Z"
        },
        "id": "7c73322e"
      },
      "outputs": [],
      "source": [
        "import operator\n",
        "\n",
        "class Expr:\n",
        "    def __call__(self, **context):\n",
        "        raise NotImplementedError(\"Метод __call__ должен быть реализован в подклассе.\")\n",
        "\n",
        "    def d(self, wrt):\n",
        "        raise NotImplementedError(\"Метод d должен быть реализован в подклассе.\")\n",
        "\n",
        "    def __add__(self, other):\n",
        "        return Sum(self, other)\n",
        "\n",
        "    def __radd__(self, other):\n",
        "        return Sum(Const(other) if isinstance(other, (int, float)) else other, self)\n",
        "\n",
        "    def __sub__(self, other):\n",
        "        return Sum(self, Product(Const(-1), other))\n",
        "\n",
        "    def __rsub__(self, other):\n",
        "        return Sum(other, Product(Const(-1), self))\n",
        "\n",
        "    def __mul__(self, other):\n",
        "        return Product(self, other)\n",
        "\n",
        "    def __rmul__(self, other):\n",
        "        return Product(Const(other) if isinstance(other, (int, float)) else other, self)\n",
        "\n",
        "    def __truediv__(self, other):\n",
        "        return Fraction(self, other)\n",
        "\n",
        "    def __rtruediv__(self, other):\n",
        "        return Fraction(other, self)\n",
        "\n",
        "    def __neg__(self):\n",
        "        return Product(Const(-1), self)\n",
        "\n",
        "    def __pos__(self):\n",
        "        return self\n",
        "\n",
        "    def __pow__(self, power):\n",
        "        return Power(self, Const(power))\n",
        "\n",
        "    def __repr__(self):\n",
        "        return self.__str__()"
      ]
    },
    {
      "cell_type": "markdown",
      "id": "1a3f58d5",
      "metadata": {
        "id": "1a3f58d5"
      },
      "source": [
        "Создайте классы для двух видов выражений: `Const`, представляющий константу, и` Var`, представляющий переменную. Чтобы упростить использование, вместо обращения к конструкторам этих классов, будем использовать их однобуквенные сокращённые обозначения.\n",
        "\n",
        "**Пример использования:**\n",
        "```python\n",
        "V = Var\n",
        "C = Const\n",
        "\n",
        "C(5)()\n",
        "5\n",
        "C(5).d(V(\"x\"))()\n",
        "0\n",
        "V(\"x\")(x=5)\n",
        "5\n",
        "V(\"x\").d(V(\"y\"))(x=5)\n",
        "0\n",
        "V(\"x\").d(V(\"x\"))(x=5)\n",
        "1\n",
        "```"
      ]
    },
    {
      "cell_type": "code",
      "execution_count": 2,
      "id": "aa4e32b4",
      "metadata": {
        "ExecuteTime": {
          "end_time": "2024-11-12T16:42:49.906141Z",
          "start_time": "2024-11-12T16:42:49.888604Z"
        },
        "id": "aa4e32b4"
      },
      "outputs": [],
      "source": [
        "class Const(Expr):\n",
        "    def __init__(self, value):\n",
        "        self.value = value\n",
        "\n",
        "    def __call__(self, **context):\n",
        "        return self.value\n",
        "\n",
        "    def d(self, wrt):\n",
        "        return Const(0)\n",
        "\n",
        "    def __str__(self):\n",
        "        return str(self.value)\n",
        "\n",
        "class Var(Expr):\n",
        "    def __init__(self, name):\n",
        "        self.name = name\n",
        "\n",
        "    def __call__(self, **context):\n",
        "        if self.name in context:\n",
        "            return context[self.name]\n",
        "        else:\n",
        "            raise ValueError(f\"Значение переменной '{self.name}' не предоставлено в контексте.\")\n",
        "\n",
        "    def d(self, wrt):\n",
        "        if self.name == wrt.name:\n",
        "            return Const(1)\n",
        "        else:\n",
        "            return Const(0)\n",
        "\n",
        "    def __str__(self):\n",
        "        return self.name\n",
        "\n",
        "V = Var\n",
        "C = Const"
      ]
    },
    {
      "cell_type": "code",
      "source": [
        "print(C(5)()) # 5\n",
        "print(C(5).d(V(\"x\"))()) # 0\n",
        "print(V(\"x\")(x=5)) # 5\n",
        "print(V(\"x\").d(V(\"y\"))()) # 0\n",
        "print(V(\"x\").d(V(\"x\"))()) # 1"
      ],
      "metadata": {
        "colab": {
          "base_uri": "https://localhost:8080/"
        },
        "id": "CkiJOqvwqW-f",
        "outputId": "8603046a-f57d-44a4-b780-2888b6f639fc"
      },
      "id": "CkiJOqvwqW-f",
      "execution_count": 3,
      "outputs": [
        {
          "output_type": "stream",
          "name": "stdout",
          "text": [
            "5\n",
            "0\n",
            "5\n",
            "0\n",
            "1\n"
          ]
        }
      ]
    },
    {
      "cell_type": "code",
      "source": [
        "import unittest\n",
        "\n",
        "class TestConst(unittest.TestCase):\n",
        "    def test_const_call(self):\n",
        "        c = Const(5)\n",
        "        self.assertEqual(c(), 5)\n",
        "        self.assertEqual(c(x=10), 5)\n",
        "        self.assertEqual(c(y=3), 5)\n",
        "\n",
        "    def test_const_derivative(self):\n",
        "        c = Const(5)\n",
        "        derivative = c.d(V(\"x\"))\n",
        "        self.assertIsInstance(derivative, Const)\n",
        "        self.assertEqual(derivative(), 0)"
      ],
      "metadata": {
        "id": "NwFkb455tbeK"
      },
      "id": "NwFkb455tbeK",
      "execution_count": 24,
      "outputs": []
    },
    {
      "cell_type": "code",
      "source": [
        "class TestVar(unittest.TestCase):\n",
        "    def test_var_call(self):\n",
        "        x = V(\"x\")\n",
        "        self.assertEqual(x(x=5), 5)\n",
        "        self.assertEqual(x(x=10), 10)\n",
        "        with self.assertRaises(ValueError):\n",
        "            x()\n",
        "\n",
        "    def test_var_derivative_self(self):\n",
        "        x = V(\"x\")\n",
        "        derivative = x.d(V(\"x\"))\n",
        "        self.assertIsInstance(derivative, Const)\n",
        "        self.assertEqual(derivative(), 1)\n",
        "\n",
        "    def test_var_derivative_other(self):\n",
        "        x = V(\"x\")\n",
        "        y = V(\"y\")\n",
        "        derivative = x.d(y)\n",
        "        self.assertIsInstance(derivative, Const)\n",
        "        self.assertEqual(derivative(), 0)"
      ],
      "metadata": {
        "id": "buPF_cvethMD"
      },
      "id": "buPF_cvethMD",
      "execution_count": 25,
      "outputs": []
    },
    {
      "cell_type": "markdown",
      "id": "4a4c72ce",
      "metadata": {
        "id": "4a4c72ce"
      },
      "source": [
        "## Бинарные операции"
      ]
    },
    {
      "cell_type": "markdown",
      "id": "f87be166",
      "metadata": {
        "id": "f87be166"
      },
      "source": [
        "Создайте классы для бинарных операций: `Sum`, `Product` и `Fraction`. Поскольку бинарные операции определяются двумя операндами, их конструктор будет одинаковым для всех этих классов. Поэтому его можно вынести в отдельный базовый класс, чтобы избежать дублирования кода."
      ]
    },
    {
      "cell_type": "code",
      "execution_count": 4,
      "id": "6aaf6b13",
      "metadata": {
        "ExecuteTime": {
          "end_time": "2024-11-12T16:51:24.856165Z",
          "start_time": "2024-11-12T16:51:24.844203Z"
        },
        "id": "6aaf6b13"
      },
      "outputs": [],
      "source": [
        "class BinOp(Expr):\n",
        "    def __init__(self, expr1, expr2):\n",
        "        self.expr1, self.expr2 = expr1, expr2"
      ]
    },
    {
      "cell_type": "markdown",
      "id": "3e335e95",
      "metadata": {
        "id": "3e335e95"
      },
      "source": [
        "Реализуйте `Sum` для суммирования, `Product` для умножения и `Fraction` для деления.\n",
        "\n",
        "**Пример использования:**\n",
        "\n",
        "```python\n",
        "Sum(V(\"x\"), Fraction(V(\"x\"), V(\"y\")))(x=5, y=2.5)\n",
        "7.0\n",
        "Fraction(Sum(C(5), V(\"y\")), Product(V(\"x\"), V(\"y\")))(x=1, y=2)\n",
        "3.5\n",
        "Fraction(Sum(C(5), V(\"y\")), Product(V(\"x\"), V(\"y\"))).d(V(\"x\"))(x=1, y=2)\n",
        "-3.5\n",
        "Fraction(Sum(C(5), V(\"y\")), Product(V(\"x\"), V(\"y\"))).d(V(\"y\"))(x=1, y=2)\n",
        "-1.25\n",
        "```"
      ]
    },
    {
      "cell_type": "code",
      "execution_count": 5,
      "id": "cc5c5599",
      "metadata": {
        "id": "cc5c5599"
      },
      "outputs": [],
      "source": [
        "class Sum(BinOp):\n",
        "    def __call__(self, **context):\n",
        "        return self.expr1(**context) + self.expr2(**context)\n",
        "\n",
        "    def d(self, wrt):\n",
        "        return Sum(self.expr1.d(wrt), self.expr2.d(wrt))\n",
        "\n",
        "    def op_symbol(self):\n",
        "        return \"+\"\n",
        "\n",
        "class Product(BinOp):\n",
        "    def __call__(self, **context):\n",
        "        return self.expr1(**context) * self.expr2(**context)\n",
        "\n",
        "    def d(self, wrt):\n",
        "        return Sum(Product(self.expr1.d(wrt), self.expr2), Product(self.expr1, self.expr2.d(wrt)))\n",
        "\n",
        "    def op_symbol(self):\n",
        "        return \"*\"\n",
        "\n",
        "class Fraction(BinOp):\n",
        "    def __call__(self, **context):\n",
        "        denominator = self.expr2(**context)\n",
        "        if denominator == 0:\n",
        "            raise ZeroDivisionError(\"Деление на ноль.\")\n",
        "        return self.expr1(**context) / denominator\n",
        "\n",
        "    def d(self, wrt):\n",
        "        numerator = Sum(Product(self.expr1.d(wrt), self.expr2), Product(Const(-1), Product(self.expr1, self.expr2.d(wrt))))\n",
        "        denominator = Product(self.expr2, self.expr2)\n",
        "        return Fraction(numerator, denominator)\n",
        "\n",
        "    def op_symbol(self):\n",
        "        return \"/\""
      ]
    },
    {
      "cell_type": "code",
      "source": [
        "print(Sum(V(\"x\"), Fraction(V(\"x\"), V(\"y\")))(x=5, y=2.5)) # 7.0\n",
        "print(Fraction(Sum(C(5), V(\"y\")), Product(V(\"x\"), V(\"y\")))(x=1, y=2)) # 3.5\n",
        "print(Fraction(Sum(C(5), V(\"y\")), Product(V(\"x\"), V(\"y\"))).d(V(\"x\"))(x=1, y=2)) # -3.5\n",
        "print(Fraction(Sum(C(5), V(\"y\")), Product(V(\"x\"), V(\"y\"))).d(V(\"y\"))(x=1, y=2)) # -1.25"
      ],
      "metadata": {
        "colab": {
          "base_uri": "https://localhost:8080/"
        },
        "id": "WQJc3EWSrMfk",
        "outputId": "29a84cae-dfa4-443f-d455-55826f824d2f"
      },
      "id": "WQJc3EWSrMfk",
      "execution_count": 8,
      "outputs": [
        {
          "output_type": "stream",
          "name": "stdout",
          "text": [
            "7.0\n",
            "3.5\n",
            "-3.5\n",
            "-1.25\n"
          ]
        }
      ]
    },
    {
      "cell_type": "code",
      "source": [
        "class TestSum(unittest.TestCase):\n",
        "    def test_sum_call(self):\n",
        "        expr = Sum(C(5), V(\"x\"))\n",
        "        self.assertEqual(expr(x=3), 8)\n",
        "        self.assertEqual(expr(x=-2), 3)\n",
        "\n",
        "    def test_sum_derivative(self):\n",
        "        expr = Sum(V(\"x\"), C(5))\n",
        "        derivative = expr.d(V(\"x\"))\n",
        "        self.assertIsInstance(derivative, Sum)\n",
        "        self.assertEqual(derivative(x=10), 1)"
      ],
      "metadata": {
        "id": "dtoK1ao4tkyj"
      },
      "id": "dtoK1ao4tkyj",
      "execution_count": 26,
      "outputs": []
    },
    {
      "cell_type": "code",
      "source": [
        "class TestProduct(unittest.TestCase):\n",
        "    def test_product_call(self):\n",
        "        expr = Product(C(5), V(\"x\"))\n",
        "        self.assertEqual(expr(x=3), 15)\n",
        "        self.assertEqual(expr(x=-2), -10)\n",
        "\n",
        "    def test_product_derivative(self):\n",
        "        expr = Product(V(\"x\"), V(\"x\"))  # f(x) = x * x\n",
        "        derivative = expr.d(V(\"x\"))\n",
        "        self.assertIsInstance(derivative, Sum)\n",
        "        self.assertEqual(derivative(x=3), 6)"
      ],
      "metadata": {
        "id": "k1ap8o8KtmtS"
      },
      "id": "k1ap8o8KtmtS",
      "execution_count": 27,
      "outputs": []
    },
    {
      "cell_type": "code",
      "source": [
        "class TestFraction(unittest.TestCase):\n",
        "    def test_fraction_call(self):\n",
        "        expr = Fraction(V(\"x\"), V(\"y\"))\n",
        "        self.assertEqual(expr(x=5, y=2.5), 2.0)\n",
        "        self.assertEqual(expr(x=10, y=2), 5.0)\n",
        "        with self.assertRaises(ZeroDivisionError):\n",
        "            expr(x=1, y=0)\n",
        "\n",
        "    def test_fraction_derivative(self):\n",
        "        expr = Fraction(Sum(C(5), V(\"y\")), Product(V(\"x\"), V(\"y\")))\n",
        "        derivative_x = expr.d(V(\"x\"))\n",
        "        self.assertIsInstance(derivative_x, Fraction)\n",
        "        self.assertAlmostEqual(derivative_x(x=1, y=2), -3.5, places=5)\n",
        "\n",
        "        derivative_y = expr.d(V(\"y\"))\n",
        "        self.assertIsInstance(derivative_y, Fraction)\n",
        "        self.assertAlmostEqual(derivative_y(x=1, y=2), -1.25, places=5)"
      ],
      "metadata": {
        "id": "Ov0irAuytoHe"
      },
      "id": "Ov0irAuytoHe",
      "execution_count": 28,
      "outputs": []
    },
    {
      "cell_type": "markdown",
      "id": "68648251",
      "metadata": {
        "id": "68648251"
      },
      "source": [
        "## Перегрузка операторов"
      ]
    },
    {
      "cell_type": "markdown",
      "id": "49be6b43",
      "metadata": {
        "ExecuteTime": {
          "end_time": "2024-11-12T16:56:10.954760Z",
          "start_time": "2024-11-12T16:56:10.934054Z"
        },
        "id": "49be6b43"
      },
      "source": [
        "Добавьте перегрузку операторов в базовых класс `Expr`. Обратите что в классах мы можем тоже заменить на использование операторов.\n",
        "```python  \n",
        "-e         e.__neg__()\n",
        "+e         e.__pos__()\n",
        "e1 + e2    e1.__add__(e2)\n",
        "e1 - e2    e1.__sub__(e2)\n",
        "e1 * e2    e1.__mul__(e2)\n",
        "e1 / e2    e1.__truediv__(e2)\n",
        "```\n",
        "\n",
        "**Пример использования:**\n",
        "\n",
        "```python\n",
        "(V(\"x\") * V(\"x\") / V(\"y\"))(x=5, y=2.5)\n",
        "10.0\n",
        "```"
      ]
    },
    {
      "cell_type": "code",
      "source": [
        "(V(\"x\") * V(\"x\") / V(\"y\"))(x=5, y=2.5)"
      ],
      "metadata": {
        "colab": {
          "base_uri": "https://localhost:8080/"
        },
        "id": "suEFQFZTrlbS",
        "outputId": "98113f28-eb81-4b9f-a979-6f7e04ec5cfc"
      },
      "id": "suEFQFZTrlbS",
      "execution_count": 9,
      "outputs": [
        {
          "output_type": "execute_result",
          "data": {
            "text/plain": [
              "10.0"
            ]
          },
          "metadata": {},
          "execution_count": 9
        }
      ]
    },
    {
      "cell_type": "markdown",
      "id": "d8c4e847",
      "metadata": {
        "ExecuteTime": {
          "end_time": "2024-11-12T17:15:20.644716Z",
          "start_time": "2024-11-12T17:15:20.631450Z"
        },
        "id": "d8c4e847"
      },
      "source": [
        "## Метод Ньютона-Рафсона"
      ]
    },
    {
      "cell_type": "markdown",
      "id": "c2ff4b5b",
      "metadata": {
        "id": "c2ff4b5b"
      },
      "source": [
        "Напишите функцию `newton_raphson`, которая принимает дифференцируемую функцию  $f$  от переменной  $x$ , начальное приближение  $x_0$ , и положительное число  $\\epsilon$ , задающее точность вычислений. Функция должна возвращать значение  $x$ , при котором  $f(x)$  становится равным нулю. Метод Ньютона-Рафсона выполняет итеративный поиск корня функции  $f(x)$ , начиная с начального значения  $x_0$ , и использует правило  \n",
        "$$x_{n+1} = x_n - \\frac{f(x_n)}{f{\\prime}(x_n)}$$  \n",
        "для обновления  $x$  на каждом шаге. Итерации продолжаются до тех пор, пока условие остановки  $|x_{n+1} - x_n| \\leq \\epsilon$  не будет выполнено.\n",
        "\n",
        "**Пример использования:**\n",
        "\n",
        "```python\n",
        "x = Var(\"x\")\n",
        "f = Const(-5) * x * x * x * x * x + Const(3) * x + Const(2)\n",
        "zero = newton_raphson(f, 0.5, eps=1e-4)\n",
        "zero, f(x=zero)\n",
        "(1.000000000001132, -2.490496697760136e-11)\n",
        "```"
      ]
    },
    {
      "cell_type": "code",
      "execution_count": 22,
      "id": "5e185229",
      "metadata": {
        "id": "5e185229"
      },
      "outputs": [],
      "source": [
        "def newton_raphson(expr, x0, eps=1e-4, max_iter=1000):\n",
        "    x_current = x0\n",
        "    for i in range(max_iter):\n",
        "        f_value = expr(x=x_current)\n",
        "        f_derivative = expr.d(V(\"x\"))(x=x_current)\n",
        "\n",
        "        if f_derivative == 0:\n",
        "            raise ZeroDivisionError(\"Производная равна нулю\")\n",
        "\n",
        "        x_next = x_current - (f_value / f_derivative)\n",
        "\n",
        "        if abs(x_next - x_current) <= eps:\n",
        "            return x_next\n",
        "\n",
        "        x_current = x_next\n",
        "\n",
        "    raise ValueError(\"Метод не сошелся за заданное количество итераций\")"
      ]
    },
    {
      "cell_type": "code",
      "source": [
        "x = Var(\"x\")\n",
        "f = Const(-5) * x * x * x * x * x + Const(3) * x + Const(2)\n",
        "zero = newton_raphson(f, 0.5, eps=1e-4)\n",
        "zero, f(x=zero)"
      ],
      "metadata": {
        "colab": {
          "base_uri": "https://localhost:8080/"
        },
        "id": "vmTA8jT6rrLK",
        "outputId": "34ed907b-31c0-48c0-82f0-f9a5eb601f69"
      },
      "id": "vmTA8jT6rrLK",
      "execution_count": 21,
      "outputs": [
        {
          "output_type": "execute_result",
          "data": {
            "text/plain": [
              "(1.0000000000000653, -1.4384049507043528e-12)"
            ]
          },
          "metadata": {},
          "execution_count": 21
        }
      ]
    },
    {
      "cell_type": "code",
      "source": [
        "class TestNewtonRaphson(unittest.TestCase):\n",
        "    def test_newton_raphson_simple_root(self):\n",
        "        # Функция f(x) = x - 2, корень x=2\n",
        "        x = V(\"x\")\n",
        "        f = Sum(x, C(-2))\n",
        "        root = newton_raphson(f, x0=0.0, eps=1e-6)\n",
        "        self.assertAlmostEqual(root, 2.0, places=6)\n",
        "        self.assertAlmostEqual(f(x=root), 0.0, places=6)\n",
        "\n",
        "    def test_newton_raphson_polynomial(self):\n",
        "        # Функция f(x) = x^2 - 4, корни x=2 и x=-2\n",
        "        x = V(\"x\")\n",
        "        f = Sum(Product(x, x), C(-4))\n",
        "        root = newton_raphson(f, x0=3.0, eps=1e-6)\n",
        "        self.assertAlmostEqual(root, 2.0, places=6)\n",
        "        self.assertAlmostEqual(f(x=root), 0.0, places=6)\n",
        "\n",
        "        root_neg = newton_raphson(f, x0=-3.0, eps=1e-6)\n",
        "        self.assertAlmostEqual(root_neg, -2.0, places=6)\n",
        "        self.assertAlmostEqual(f(x=root_neg), 0.0, places=6)\n",
        "\n",
        "    def test_newton_raphson_no_convergence(self):\n",
        "        # Функция f(x) = x^3 - 2x + 2, не имеет действительных корней\n",
        "        x = V(\"x\")\n",
        "        f = Sum(Product(Product(x, x), x), Sum(Product(C(-2), x), C(2)))\n",
        "        with self.assertRaises(ValueError):\n",
        "            newton_raphson(f, x0=0.0, eps=1e-6, max_iter=10)\n",
        "\n",
        "    def test_newton_raphson_zero_derivative(self):\n",
        "        # Функция f(x) = x^3, производная f'(x) = 3x^2\n",
        "        x = V(\"x\")\n",
        "        f = Product(Product(x, x), x)\n",
        "        with self.assertRaises(ZeroDivisionError):\n",
        "            newton_raphson(f, x0=0.0, eps=1e-6)"
      ],
      "metadata": {
        "id": "o7Sfko6-ttsi"
      },
      "id": "o7Sfko6-ttsi",
      "execution_count": 30,
      "outputs": []
    },
    {
      "cell_type": "code",
      "source": [
        "unittest.main(argv=[''], verbosity=2, exit=False)\n",
        "None"
      ],
      "metadata": {
        "colab": {
          "base_uri": "https://localhost:8080/"
        },
        "id": "FZ6OiGR_t_du",
        "outputId": "bbab687f-ead7-484b-d8a1-cbc1162cb808"
      },
      "id": "FZ6OiGR_t_du",
      "execution_count": 31,
      "outputs": [
        {
          "output_type": "stream",
          "name": "stderr",
          "text": [
            "test_const_call (__main__.TestConst) ... ok\n",
            "test_const_derivative (__main__.TestConst) ... ok\n",
            "test_fraction_call (__main__.TestFraction) ... ok\n",
            "test_fraction_derivative (__main__.TestFraction) ... ok\n",
            "test_newton_raphson_no_convergence (__main__.TestNewtonRaphson) ... ok\n",
            "test_newton_raphson_polynomial (__main__.TestNewtonRaphson) ... ok\n",
            "test_newton_raphson_simple_root (__main__.TestNewtonRaphson) ... ok\n",
            "test_newton_raphson_zero_derivative (__main__.TestNewtonRaphson) ... ok\n",
            "test_product_call (__main__.TestProduct) ... ok\n",
            "test_product_derivative (__main__.TestProduct) ... ok\n",
            "test_sum_call (__main__.TestSum) ... ok\n",
            "test_sum_derivative (__main__.TestSum) ... ok\n",
            "test_const_call (__main__.TestSymbolicDifferentiation) ... ok\n",
            "test_const_derivative (__main__.TestSymbolicDifferentiation) ... ok\n",
            "test_fraction_call (__main__.TestSymbolicDifferentiation) ... ok\n",
            "test_fraction_derivative (__main__.TestSymbolicDifferentiation) ... ok\n",
            "test_newton_raphson_no_convergence (__main__.TestSymbolicDifferentiation) ... ok\n",
            "test_newton_raphson_polynomial (__main__.TestSymbolicDifferentiation) ... ok\n",
            "test_newton_raphson_simple_root (__main__.TestSymbolicDifferentiation) ... ok\n",
            "test_newton_raphson_zero_derivative (__main__.TestSymbolicDifferentiation) ... ok\n",
            "test_product_call (__main__.TestSymbolicDifferentiation) ... ok\n",
            "test_product_derivative (__main__.TestSymbolicDifferentiation) ... ok\n",
            "test_sum_call (__main__.TestSymbolicDifferentiation) ... ok\n",
            "test_sum_derivative (__main__.TestSymbolicDifferentiation) ... ok\n",
            "test_var_call (__main__.TestSymbolicDifferentiation) ... ok\n",
            "test_var_derivative_other (__main__.TestSymbolicDifferentiation) ... ok\n",
            "test_var_derivative_self (__main__.TestSymbolicDifferentiation) ... ok\n",
            "test_var_call (__main__.TestVar) ... ok\n",
            "test_var_derivative_other (__main__.TestVar) ... ok\n",
            "test_var_derivative_self (__main__.TestVar) ... ok\n",
            "\n",
            "----------------------------------------------------------------------\n",
            "Ran 30 tests in 0.080s\n",
            "\n",
            "OK\n"
          ]
        }
      ]
    }
  ],
  "metadata": {
    "kernelspec": {
      "display_name": "Python 3 (ipykernel)",
      "language": "python",
      "name": "python3"
    },
    "language_info": {
      "codemirror_mode": {
        "name": "ipython",
        "version": 3
      },
      "file_extension": ".py",
      "mimetype": "text/x-python",
      "name": "python",
      "nbconvert_exporter": "python",
      "pygments_lexer": "ipython3",
      "version": "3.9.7"
    },
    "colab": {
      "provenance": []
    }
  },
  "nbformat": 4,
  "nbformat_minor": 5
}