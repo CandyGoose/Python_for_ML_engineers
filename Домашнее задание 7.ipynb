{
  "cells": [
    {
      "cell_type": "markdown",
      "source": [
        "# Касьяненко Вера"
      ],
      "metadata": {
        "id": "HsvmJgOLpM2X"
      },
      "id": "HsvmJgOLpM2X"
    },
    {
      "cell_type": "markdown",
      "id": "b7f85915",
      "metadata": {
        "id": "b7f85915"
      },
      "source": [
        "# Работа с ресурсами"
      ]
    },
    {
      "cell_type": "markdown",
      "id": "9c7c136e",
      "metadata": {
        "id": "9c7c136e"
      },
      "source": [
        "## Порядок сдачи домашнего"
      ]
    },
    {
      "cell_type": "markdown",
      "id": "0799026a",
      "metadata": {
        "ExecuteTime": {
          "end_time": "2024-11-03T13:23:48.609956Z",
          "start_time": "2024-11-03T13:23:48.581564Z"
        },
        "id": "0799026a"
      },
      "source": [
        "Под каждое домашнее вы создаете отдельную ветку куда вносите все изменения в рамках домашнего. Как только домашнее готово - создаете пулл реквест (обратите внимание что в пулл реквесте должны быть отражены все изменения в рамках домашнего). Ревьювера назначаете из таблицы - https://docs.google.com/spreadsheets/d/1vK6IgEqaqXniUJAQOOspiL_tx3EYTSXW1cUrMHAZFr8/edit?gid=0#gid=0\n",
        "Перед сдачей проверьте код, напишите тесты. Не забудьте про PEP8, например, с помощью flake8. Задание нужно делать в jupyter notebook.\n",
        "\n",
        "**Дедлайн - 14 ноября 10:00**"
      ]
    },
    {
      "cell_type": "markdown",
      "id": "39ca02a1",
      "metadata": {
        "id": "39ca02a1"
      },
      "source": [
        "# Менеджер контекста для смены директории (cd)"
      ]
    },
    {
      "cell_type": "markdown",
      "id": "eead1ca2",
      "metadata": {
        "id": "eead1ca2"
      },
      "source": [
        "Напишите класс менеджера контекста ChangeDir, который временно меняет текущую рабочую директорию на заданную. После выхода из контекста рабочая директория должна вернуться к предыдущей.\n",
        "\n",
        "**Условия:**\n",
        "1.\tПри входе в блок with менеджер контекста должен изменить текущую директорию на указанную.\n",
        "2.\tПри выходе из блока with менеджер контекста должен вернуть рабочую директорию на исходное значение.\n",
        "3.\tОбработайте ситуацию, когда указанный путь не существует, с выводом сообщения об ошибке.\n",
        "\n",
        "**Пример:**\n",
        "\n",
        "```python\n",
        "import os\n",
        "\n",
        "print(\"Начальная директория:\", os.getcwd())\n",
        "\n",
        "try:\n",
        "    with ChangeDir(\"/path/to/new/directory\"):\n",
        "        print(\"Внутри менеджера:\", os.getcwd())\n",
        "except FileNotFoundError as e:\n",
        "    print(e)\n",
        "\n",
        "print(\"После выхода:\", os.getcwd())\n",
        "\n",
        "Начальная директория: /Users/jdima/Apps/teaching/lectures/python/2024/itmo/7. manager context/homework\n",
        "Ошибка: Директория '/path/to/new/directory' не существует.\n",
        "Директория '/path/to/new/directory' не найдена.\n",
        "После выхода: /Users/jdima/Apps/teaching/lectures/python/2024/itmo/7. manager context/homework\n",
        "```"
      ]
    },
    {
      "cell_type": "code",
      "execution_count": 10,
      "id": "239b51fd",
      "metadata": {
        "colab": {
          "base_uri": "https://localhost:8080/"
        },
        "id": "239b51fd",
        "outputId": "313e0667-6dd0-4006-f3e3-2fdd0a3d957a"
      },
      "outputs": [
        {
          "output_type": "stream",
          "name": "stdout",
          "text": [
            "Начальная директория: /content\n",
            "Внутри менеджера: /content/sample_data\n",
            "После выхода: /content\n"
          ]
        }
      ],
      "source": [
        "import os\n",
        "\n",
        "class ChangeDir:\n",
        "    def __init__(self, new_path):\n",
        "        self.new_path = new_path\n",
        "        self.original_path = None\n",
        "\n",
        "    def __enter__(self):\n",
        "        self.original_path = os.getcwd()\n",
        "        if not os.path.exists(self.new_path):\n",
        "            raise FileNotFoundError(f\"Директория '{self.new_path}' не найдена.\")\n",
        "        os.chdir(self.new_path)\n",
        "\n",
        "    def __exit__(self, exc_type, exc_value, traceback):\n",
        "        os.chdir(self.original_path)\n",
        "\n",
        "print(\"Начальная директория:\", os.getcwd())\n",
        "\n",
        "try:\n",
        "    with ChangeDir(\"./sample_data\"):\n",
        "        print(\"Внутри менеджера:\", os.getcwd())\n",
        "except FileNotFoundError as e:\n",
        "    print(e)\n",
        "\n",
        "print(\"После выхода:\", os.getcwd())"
      ]
    },
    {
      "cell_type": "code",
      "source": [
        "import unittest\n",
        "\n",
        "class TestChangeDir(unittest.TestCase):\n",
        "    def test_change_dir(self):\n",
        "        original_dir = os.getcwd()\n",
        "        with ChangeDir(os.path.expanduser(\"~\")):\n",
        "            self.assertEqual(os.getcwd(), os.path.expanduser(\"~\"))\n",
        "        self.assertEqual(os.getcwd(), original_dir)\n",
        "\n",
        "    def test_invalid_dir(self):\n",
        "        with self.assertRaises(FileNotFoundError):\n",
        "            with ChangeDir(\"/non/existent/directory\"):\n",
        "                pass"
      ],
      "metadata": {
        "id": "BGqM4Lmmnv4T"
      },
      "id": "BGqM4Lmmnv4T",
      "execution_count": 19,
      "outputs": []
    },
    {
      "cell_type": "markdown",
      "id": "5addad6c",
      "metadata": {
        "id": "5addad6c"
      },
      "source": [
        "# Перенаправления вывода в файл"
      ]
    },
    {
      "cell_type": "markdown",
      "id": "4c199e6e",
      "metadata": {
        "id": "4c199e6e"
      },
      "source": [
        "Напишите класс менеджера контекста RedirectOutput, который временно перенаправляет стандартный поток вывода stdout в указанный файл. После выхода из контекста вывод должен возвращаться в стандартный поток.\n",
        "\n",
        "**Условия:**\n",
        "\n",
        "1.\tПри входе в блок with менеджер контекста должен перенаправить вывод print в файл, указанный при создании объекта.\n",
        "2.\tПри выходе из блока with вывод должен возвращаться в стандартный поток.\n",
        "3.\tЕсли файл уже существует, вывод должен дописываться к нему, а не перезаписывать его.\n",
        "\n",
        "**Пример:**\n",
        "```python\n",
        "print(\"Это стандартный вывод\")  # Должно выводиться в консоль\n",
        "\n",
        "with RedirectOutput(\"output.txt\"):\n",
        "    print(\"Это вывод в файл\")   # Должно записываться в файл \"output.txt\"\n",
        "\n",
        "print(\"Снова стандартный вывод\")  # Должно выводиться в консоль\n",
        "```\n"
      ]
    },
    {
      "cell_type": "code",
      "execution_count": 2,
      "id": "81acc7b5",
      "metadata": {
        "id": "81acc7b5"
      },
      "outputs": [],
      "source": [
        "#self.file = open(self.filename, 'a')\n",
        "#sys.stdout = self.file  # Перенаправляем stdout в файл"
      ]
    },
    {
      "cell_type": "code",
      "execution_count": 3,
      "id": "abf13f3f",
      "metadata": {
        "colab": {
          "base_uri": "https://localhost:8080/"
        },
        "id": "abf13f3f",
        "outputId": "7a6886c6-804e-45da-d564-a42a7b2f2114"
      },
      "outputs": [
        {
          "output_type": "stream",
          "name": "stdout",
          "text": [
            "Это стандартный вывод\n",
            "Снова стандартный вывод\n"
          ]
        }
      ],
      "source": [
        "import sys\n",
        "\n",
        "class RedirectOutput:\n",
        "    def __init__(self, filename):\n",
        "        self.filename = filename\n",
        "        self.original_stdout = None\n",
        "        self.file = None\n",
        "\n",
        "    def __enter__(self):\n",
        "        self.original_stdout = sys.stdout\n",
        "        self.file = open(self.filename, 'a', encoding='utf-8')\n",
        "        sys.stdout = self.file\n",
        "        return self.file\n",
        "\n",
        "    def __exit__(self, exc_type, exc_value, traceback):\n",
        "        sys.stdout = self.original_stdout\n",
        "        if self.file:\n",
        "            self.file.close()\n",
        "\n",
        "# Пример использования\n",
        "print(\"Это стандартный вывод\")  # Должно выводиться в консоль\n",
        "\n",
        "with RedirectOutput(\"output.txt\"):\n",
        "    print(\"Это вывод в файл\")   # Должно записываться в файл \"output.txt\"\n",
        "\n",
        "print(\"Снова стандартный вывод\")  # Должно выводиться в консоль"
      ]
    },
    {
      "cell_type": "code",
      "source": [
        "class TestRedirectOutput(unittest.TestCase):\n",
        "    def test_redirect_output(self):\n",
        "        test_file = \"test_output.txt\"\n",
        "        with RedirectOutput(test_file):\n",
        "            print(\"Это вывод в файл\")\n",
        "        with open(test_file, \"r\", encoding=\"utf-8\") as f:\n",
        "            content = f.read()\n",
        "        self.assertIn(\"Это вывод в файл\", content)\n",
        "        os.remove(test_file)"
      ],
      "metadata": {
        "id": "JRIgi6UXn5Op"
      },
      "id": "JRIgi6UXn5Op",
      "execution_count": 20,
      "outputs": []
    },
    {
      "cell_type": "markdown",
      "id": "5521fc72",
      "metadata": {
        "id": "5521fc72"
      },
      "source": [
        "# Замер времени выполнения кода"
      ]
    },
    {
      "cell_type": "markdown",
      "id": "dcdd1880",
      "metadata": {
        "ExecuteTime": {
          "end_time": "2024-10-31T14:19:37.856022Z",
          "start_time": "2024-10-31T14:19:37.835554Z"
        },
        "id": "dcdd1880"
      },
      "source": [
        "Напишите класс менеджера контекста Timer, который замеряет время выполнения кода внутри блока with. Менеджер должен выводить время выполнения в консоль по завершении блока. Для замера времени используйте модуль time.\n",
        "\n",
        "**Условия:**\n",
        "1. При входе в блок with менеджер контекста должен начинать отсчёт времени.\n",
        "2. При выходе из блока with менеджер должен выводить в консоль время выполнения кода внутри блока в формате \"Время выполнения: X.XXX секунд\".\n",
        "3. Опционально: добавить возможность передавать имя таймера при инициализации, чтобы можно было различать результаты замеров, если их несколько.\n",
        "\n",
        "**Пример:**\n",
        "```python\n",
        "import time\n",
        "\n",
        "with Timer(\"Задача 1\"):\n",
        "    time.sleep(1)  # Симуляция работы кода\n",
        "[Задача 1] Время выполнения: 1.001 секунд\n",
        "    \n",
        "with Timer(\"Задача 2\"):\n",
        "    for i in range(1000000):\n",
        "        pass\n",
        "[Задача 2] Время выполнения: 0.034 секунд\n",
        "```"
      ]
    },
    {
      "cell_type": "code",
      "execution_count": 4,
      "id": "0034913b",
      "metadata": {
        "colab": {
          "base_uri": "https://localhost:8080/"
        },
        "id": "0034913b",
        "outputId": "926c62a3-6550-4791-e8c4-2a137bbab8ac"
      },
      "outputs": [
        {
          "output_type": "stream",
          "name": "stdout",
          "text": [
            "[Задача 1] Время выполнения: 1.001 секунд\n",
            "[Задача 2] Время выполнения: 0.103 секунд\n"
          ]
        }
      ],
      "source": [
        "import time\n",
        "\n",
        "class Timer:\n",
        "    def __init__(self, name=None):\n",
        "        self.name = name\n",
        "        self.start_time = None\n",
        "\n",
        "    def __enter__(self):\n",
        "        self.start_time = time.time()\n",
        "        return self\n",
        "\n",
        "    def __exit__(self, exc_type, exc_value, traceback):\n",
        "        end_time = time.time()\n",
        "        elapsed = end_time - self.start_time\n",
        "        if self.name:\n",
        "            print(f\"[{self.name}] Время выполнения: {elapsed:.3f} секунд\")\n",
        "        else:\n",
        "            print(f\"Время выполнения: {elapsed:.3f} секунд\")\n",
        "\n",
        "# Пример использования\n",
        "with Timer(\"Задача 1\"):\n",
        "    time.sleep(1)  # Симуляция работы кода\n",
        "\n",
        "with Timer(\"Задача 2\"):\n",
        "    for i in range(1000000):\n",
        "        pass"
      ]
    },
    {
      "cell_type": "code",
      "source": [
        "class TestTimer(unittest.TestCase):\n",
        "    def test_timer(self):\n",
        "        with Timer(\"Test Timer\") as t:\n",
        "            time.sleep(0.1)\n",
        "        self.assertTrue(hasattr(t, \"start_time\"))"
      ],
      "metadata": {
        "id": "7M4QI5vyoDwW"
      },
      "id": "7M4QI5vyoDwW",
      "execution_count": 21,
      "outputs": []
    },
    {
      "cell_type": "markdown",
      "id": "ef8887ce",
      "metadata": {
        "id": "ef8887ce"
      },
      "source": [
        "# Поглощение исключения"
      ]
    },
    {
      "cell_type": "markdown",
      "id": "f02320f4",
      "metadata": {
        "id": "f02320f4"
      },
      "source": [
        "Напишите класс менеджера контекста SuppressExceptions, который подавляет указанные исключения внутри блока with, не прерывая выполнение программы. Если в блоке возникает исключение, которое не входит в список подавляемых, оно должно быть выброшено обычным образом.\n",
        "\n",
        "**Условия:**\n",
        "1.\tПри инициализации менеджера контекста нужно передавать типы исключений, которые будут подавляться.\n",
        "2.\tЕсли в блоке with возникает исключение из списка подавляемых, оно должно игнорироваться.\n",
        "3.\tЕсли возникает исключение, не входящее в список, оно должно быть выброшено.\n",
        "4.\tОпционально: после подавления исключения вывести сообщение о том, какое исключение было подавлено.\n",
        "\n",
        "\n",
        "**Пример:**\n",
        "```python\n",
        "with SuppressExceptions(ZeroDivisionError, ValueError):\n",
        "    print(1 / 0)  # Это исключение будет подавлено\n",
        "\n",
        "with SuppressExceptions(TypeError):\n",
        "    print(1 + \"2\")  # Это исключение будет подавлено\n",
        "\n",
        "with SuppressExceptions(IndexError):\n",
        "    print([1, 2, 3][5])  # Это исключение будет подавлено\n",
        "\n",
        "print(\"Программа продолжает работать после блока with\")\n",
        "```"
      ]
    },
    {
      "cell_type": "code",
      "execution_count": 11,
      "id": "3603cdfd",
      "metadata": {
        "colab": {
          "base_uri": "https://localhost:8080/"
        },
        "id": "3603cdfd",
        "outputId": "8b968384-f93d-4580-ef1c-284819a5cb7f"
      },
      "outputs": [
        {
          "output_type": "stream",
          "name": "stdout",
          "text": [
            "Исключение 'ZeroDivisionError' было подавлено\n",
            "Исключение 'TypeError' было подавлено\n",
            "Исключение 'IndexError' было подавлено\n",
            "Программа продолжает работать после блока with\n"
          ]
        }
      ],
      "source": [
        "class SuppressExceptions:\n",
        "    def __init__(self, *exception_types):\n",
        "        self.exception_types = exception_types\n",
        "\n",
        "    def __enter__(self):\n",
        "        pass\n",
        "\n",
        "    def __exit__(self, exc_type, exc_value, traceback):\n",
        "        if exc_type is None:\n",
        "            return False\n",
        "        if issubclass(exc_type, self.exception_types):\n",
        "            print(f\"Исключение '{exc_type.__name__}' было подавлено\")\n",
        "            return True\n",
        "        return False\n",
        "\n",
        "# Пример использования\n",
        "with SuppressExceptions(ZeroDivisionError, ValueError):\n",
        "    print(1 / 0)  # Это исключение будет подавлено\n",
        "\n",
        "with SuppressExceptions(TypeError):\n",
        "    print(1 + \"2\")  # Это исключение будет подавлено\n",
        "\n",
        "with SuppressExceptions(IndexError):\n",
        "    print([1, 2, 3][5])  # Это исключение будет подавлено\n",
        "\n",
        "print(\"Программа продолжает работать после блока with\")"
      ]
    },
    {
      "cell_type": "code",
      "source": [
        "class TestSuppressExceptions(unittest.TestCase):\n",
        "    def test_suppress_specific_exception(self):\n",
        "        with SuppressExceptions(ZeroDivisionError):\n",
        "            1 / 0\n",
        "\n",
        "    def test_raise_unsuppressed_exception(self):\n",
        "        with self.assertRaises(ValueError):\n",
        "            with SuppressExceptions(ZeroDivisionError):\n",
        "                raise ValueError(\"Это исключение должно быть выброшено\")"
      ],
      "metadata": {
        "id": "EiKpIzwXoH0r"
      },
      "id": "EiKpIzwXoH0r",
      "execution_count": 22,
      "outputs": []
    },
    {
      "cell_type": "markdown",
      "id": "7936b581",
      "metadata": {
        "id": "7936b581"
      },
      "source": [
        "# Создание временного файла\n",
        "Напишите класс менеджера контекста TemporaryFile, который создаёт временный файл при входе в контекст и автоматически удаляет его при выходе. Менеджер должен позволять записывать и читать данные из файла в течение его существования в контексте.\n",
        "\n",
        "**Условия:**\n",
        "1.\tПри входе в блок with менеджер должен создавать временный файл и возвращать его объект для записи и чтения.\n",
        "2.\tПри выходе из блока with временный файл должен автоматически удаляться.\n",
        "3.\tИмя файла должно быть уникальным и генерироваться автоматически.\n",
        "\n",
        "**Пример**\n",
        "```python\n",
        "with TemporaryFile() as temp_file:\n",
        "    temp_file.write(b\"Временные данные\\n\")  # Записываем данные\n",
        "    temp_file.seek(0)  # Возвращаемся в начало файла\n",
        "    print(temp_file.read())  # Читаем данные из временного файла\n",
        "\n",
        "print(\"Файл автоматически удалён\")\n",
        "```"
      ]
    },
    {
      "cell_type": "code",
      "execution_count": 18,
      "id": "0c7aacf0",
      "metadata": {
        "colab": {
          "base_uri": "https://localhost:8080/"
        },
        "id": "0c7aacf0",
        "outputId": "81f9a086-1509-42e2-f4ca-8c45455df076"
      },
      "outputs": [
        {
          "output_type": "stream",
          "name": "stdout",
          "text": [
            "temporary data\n",
            "Файл автоматически удалён\n"
          ]
        }
      ],
      "source": [
        "import os\n",
        "import tempfile\n",
        "import random\n",
        "import string\n",
        "\n",
        "class TemporaryFile:\n",
        "    def __init__(self):\n",
        "        self.temp_file = None\n",
        "        self.file_path = None\n",
        "\n",
        "    def __enter__(self):\n",
        "        random_name = \"temp_\" + ''.join(random.choices(string.ascii_letters + string.digits, k=12)) + \".tmp\"\n",
        "        self.file_path = os.path.join(tempfile.gettempdir(), random_name)\n",
        "        self.temp_file = open(self.file_path, 'w+b')\n",
        "        return self.temp_file\n",
        "\n",
        "    def __exit__(self, exc_type, exc_value, traceback):\n",
        "        if self.temp_file:\n",
        "            self.temp_file.close()\n",
        "            os.remove(self.file_path)\n",
        "            print(\"Файл автоматически удалён\")\n",
        "\n",
        "# Пример использования\n",
        "with TemporaryFile() as temp_file:\n",
        "    temp_file.write(b\"temporary data\\n\")  # Записываем данные\n",
        "    temp_file.seek(0)  # Возвращаемся в начало файла\n",
        "    print(temp_file.read().decode().rstrip(\"\\n\"))  # Читаем данные из временного файла"
      ]
    },
    {
      "cell_type": "code",
      "source": [
        "class TestTemporaryFile(unittest.TestCase):\n",
        "    def test_file_creation_and_removal(self):\n",
        "        with TemporaryFile() as temp_file:\n",
        "            file_path = temp_file.name\n",
        "            self.assertTrue(os.path.exists(file_path))\n",
        "        self.assertFalse(os.path.exists(file_path))\n",
        "\n",
        "    def test_write_and_read_file(self):\n",
        "        with TemporaryFile() as temp_file:\n",
        "            data = b\"Hello, Temporary File!\"\n",
        "            temp_file.write(data)\n",
        "            temp_file.seek(0)\n",
        "            result = temp_file.read()\n",
        "            self.assertEqual(result, data)"
      ],
      "metadata": {
        "id": "TjyYCXGSoNIu"
      },
      "id": "TjyYCXGSoNIu",
      "execution_count": 23,
      "outputs": []
    },
    {
      "cell_type": "code",
      "source": [
        "unittest.main(argv=[''], verbosity=2, exit=False)\n",
        "None"
      ],
      "metadata": {
        "colab": {
          "base_uri": "https://localhost:8080/"
        },
        "id": "sIZOSjKcolG8",
        "outputId": "3c212c37-c2ec-4ccf-c7df-eedfb7ed42dc"
      },
      "id": "sIZOSjKcolG8",
      "execution_count": 29,
      "outputs": [
        {
          "output_type": "stream",
          "name": "stderr",
          "text": [
            "test_change_dir (__main__.TestChangeDir)\n",
            "Тест изменения текущей директории. ... ok\n",
            "test_invalid_dir (__main__.TestChangeDir)\n",
            "Тест обработки несуществующей директории. ... ok\n",
            "test_redirect_output (__main__.TestRedirectOutput) ... ok\n",
            "test_raise_unsuppressed_exception (__main__.TestSuppressExceptions) ... ok\n",
            "test_suppress_specific_exception (__main__.TestSuppressExceptions) ... ok\n",
            "test_file_creation_and_removal (__main__.TestTemporaryFile) ... ok\n",
            "test_write_and_read_file (__main__.TestTemporaryFile) ... ok\n",
            "test_timer (__main__.TestTimer) ... ok\n",
            "\n",
            "----------------------------------------------------------------------\n",
            "Ran 8 tests in 0.139s\n",
            "\n",
            "OK\n"
          ]
        },
        {
          "output_type": "stream",
          "name": "stdout",
          "text": [
            "Исключение 'ZeroDivisionError' было подавлено\n",
            "Файл автоматически удалён\n",
            "Файл автоматически удалён\n",
            "[Test Timer] Время выполнения: 0.100 секунд\n"
          ]
        }
      ]
    }
  ],
  "metadata": {
    "kernelspec": {
      "display_name": "Python 3 (ipykernel)",
      "language": "python",
      "name": "python3"
    },
    "language_info": {
      "codemirror_mode": {
        "name": "ipython",
        "version": 3
      },
      "file_extension": ".py",
      "mimetype": "text/x-python",
      "name": "python",
      "nbconvert_exporter": "python",
      "pygments_lexer": "ipython3",
      "version": "3.9.7"
    },
    "colab": {
      "provenance": []
    }
  },
  "nbformat": 4,
  "nbformat_minor": 5
}