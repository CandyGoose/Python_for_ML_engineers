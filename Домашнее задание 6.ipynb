{
 "cells": [
  {
   "cell_type": "markdown",
   "id": "4feb6bdc",
   "metadata": {},
   "source": [
    "# Итераторы"
   ]
  },
  {
   "cell_type": "markdown",
   "id": "4b6631bd",
   "metadata": {},
   "source": [
    "## Порядок сдачи домашнего"
   ]
  },
  {
   "cell_type": "markdown",
   "id": "bee4fcc0",
   "metadata": {},
   "source": [
    "Под каждое домашнее вы создаете отдельную ветку куда вносите все изменения в рамках домашнего. Как только домашнее готово - создаете пулл реквест (обратите внимание что в пулл реквесте должны быть отражены все изменения в рамках домашнего). Ревьювера назначаете из таблицы - https://docs.google.com/spreadsheets/d/1vK6IgEqaqXniUJAQOOspiL_tx3EYTSXW1cUrMHAZFr8/edit?gid=0#gid=0\n",
    "Перед сдачей проверьте код, напишите тесты. Не забудьте про PEP8, например, с помощью flake8. Задание нужно делать в jupyter notebook.\n",
    "\n",
    "**Дедлайн - 11 ноября 10:00**"
   ]
  },
  {
   "cell_type": "markdown",
   "id": "d777f71d",
   "metadata": {
    "ExecuteTime": {
     "end_time": "2024-11-03T13:46:28.412754Z",
     "start_time": "2024-11-03T13:46:28.400723Z"
    }
   },
   "source": [
    "## Итератор по цифрам"
   ]
  },
  {
   "cell_type": "markdown",
   "id": "0e691ab8",
   "metadata": {},
   "source": [
    "Реализуйте класс-итератор `DigitIterator`, который принимает на вход целое число и позволяет итерироваться по его цифрам слева направо. На каждой итерации должна возвращаться следующая цифра числа.\n",
    "\n",
    "**Условия:**\n",
    "1.\tЧисло может быть как положительным, так и отрицательным.\n",
    "2.\tИтератор должен возвращать только цифры числа, без знака - для отрицательных чисел.\n",
    "3.\tИтерация должна быть возможна с помощью цикла for или функции next().\n",
    "\n",
    "**Пример использования:**\n",
    "\n",
    "```python\n",
    "iterator = DigitIterator(12345)\n",
    "for digit in iterator:\n",
    "    print(digit)\n",
    "# 1\n",
    "# 2\n",
    "# 3\n",
    "# 4\n",
    "# 5\n",
    "\n",
    "iterator = DigitIterator(-6789)\n",
    "for digit in iterator:\n",
    "    print(digit)\n",
    "\n",
    "# 6\n",
    "# 7\n",
    "# 8\n",
    "# 9\n",
    "```"
   ]
  },
  {
   "cell_type": "code",
   "execution_count": 1,
   "id": "8456ac6e",
   "metadata": {
    "ExecuteTime": {
     "end_time": "2024-11-10T22:29:59.206555100Z",
     "start_time": "2024-11-10T22:29:59.134765300Z"
    }
   },
   "outputs": [
    {
     "name": "stdout",
     "output_type": "stream",
     "text": [
      "1\n",
      "2\n",
      "3\n",
      "4\n",
      "5\n"
     ]
    }
   ],
   "source": [
    "class DigitIterator:\n",
    "    def __init__(self, number):\n",
    "        self.digits = str(abs(number))\n",
    "        self.index = 0\n",
    "\n",
    "    def __iter__(self):\n",
    "        return self\n",
    "\n",
    "    def __next__(self):\n",
    "        if self.index < len(self.digits):\n",
    "            digit = int(self.digits[self.index])\n",
    "            self.index += 1\n",
    "            return digit\n",
    "        else:\n",
    "            raise StopIteration\n",
    "\n",
    "# Пример использования\n",
    "iterator = DigitIterator(12345)\n",
    "for digit in iterator:\n",
    "    print(digit)"
   ]
  },
  {
   "cell_type": "code",
   "execution_count": 2,
   "outputs": [],
   "source": [
    "import unittest\n",
    "\n",
    "class TestDigitIterator(unittest.TestCase):\n",
    "    def test_positive_number(self):\n",
    "        iterator = DigitIterator(12345)\n",
    "        result = [digit for digit in iterator]\n",
    "        self.assertEqual(result, [1, 2, 3, 4, 5])\n",
    "\n",
    "    def test_negative_number(self):\n",
    "        iterator = DigitIterator(-6789)\n",
    "        result = [digit for digit in iterator]\n",
    "        self.assertEqual(result, [6, 7, 8, 9])\n",
    "\n",
    "    def test_single_digit(self):\n",
    "        iterator = DigitIterator(5)\n",
    "        result = [digit for digit in iterator]\n",
    "        self.assertEqual(result, [5])\n",
    "\n",
    "    def test_zero(self):\n",
    "        iterator = DigitIterator(0)\n",
    "        result = [digit for digit in iterator]\n",
    "        self.assertEqual(result, [0])"
   ],
   "metadata": {
    "collapsed": false,
    "ExecuteTime": {
     "end_time": "2024-11-10T22:29:59.208426200Z",
     "start_time": "2024-11-10T22:29:59.142762700Z"
    }
   },
   "id": "21dc43d6f33fa044"
  },
  {
   "cell_type": "markdown",
   "id": "524f2c81",
   "metadata": {},
   "source": [
    "# Итератор по файлу чанками"
   ]
  },
  {
   "cell_type": "markdown",
   "id": "b8beef88",
   "metadata": {},
   "source": [
    "Реализуйте класс-итератор `FileChunkIterator`, который принимает на вход путь к файлу и количество байт для чтения. Итератор должен открывать файл и считывать его содержимое блоками фиксированного размера (количества байт), переданного в качестве параметра. При каждой итерации возвращается следующий блок байт, пока не будет достигнут конец файла.\n",
    "\n",
    "**Условия:**\n",
    "1.\tИтератор должен открывать файл в режиме чтения бинарных данных (rb).\n",
    "2.\tРазмер блока (количество байт) передаётся при создании итератора.\n",
    "3.\tЕсли в конце файла остаётся блок меньшего размера, итератор должен вернуть оставшиеся байты.\n",
    "4.\tПри достижении конца файла итератор должен завершить работу, поднимая StopIteration.\n",
    "\n",
    "**Пример использования:**\n",
    "```python\n",
    "with open(\"example.txt\", \"w\") as file:\n",
    "    file.write(\"Hello world!!\")\n",
    "    \n",
    "iterator = FileChunkIterator(\"example.txt\", 2)\n",
    "for chunk in iterator:\n",
    "    print(chunk)\n",
    "# He\n",
    "# ll\n",
    "# o \n",
    "# wo\n",
    "# rl\n",
    "# d!\n",
    "# !\n",
    "```"
   ]
  },
  {
   "cell_type": "code",
   "execution_count": 3,
   "id": "60907399",
   "metadata": {
    "ExecuteTime": {
     "end_time": "2024-11-10T22:29:59.208426200Z",
     "start_time": "2024-11-10T22:29:59.169443Z"
    }
   },
   "outputs": [],
   "source": [
    "class FileChunkIterator:\n",
    "    def __init__(self, file_path, chunk_size):\n",
    "        self.file_path = file_path\n",
    "        self.chunk_size = chunk_size\n",
    "        self.file = None\n",
    "\n",
    "    def __iter__(self):\n",
    "        self.file = open(self.file_path, \"rb\")\n",
    "        return self\n",
    "\n",
    "    def __next__(self):\n",
    "        if self.file is None:\n",
    "            raise StopIteration\n",
    "        \n",
    "        chunk = self.file.read(self.chunk_size)\n",
    "        if chunk:\n",
    "            return chunk\n",
    "        else:\n",
    "            self.file.close()\n",
    "            raise StopIteration\n",
    "\n",
    "    def __del__(self):\n",
    "        if self.file and not self.file.closed:\n",
    "            self.file.close()"
   ]
  },
  {
   "cell_type": "code",
   "execution_count": 4,
   "id": "536a3dbc",
   "metadata": {
    "ExecuteTime": {
     "end_time": "2024-11-10T22:29:59.208426200Z",
     "start_time": "2024-11-10T22:29:59.175442800Z"
    }
   },
   "outputs": [
    {
     "name": "stdout",
     "output_type": "stream",
     "text": [
      "He\n",
      "ll\n",
      "o \n",
      "wo\n",
      "rl\n",
      "d!\n",
      "!\n"
     ]
    }
   ],
   "source": [
    "with open(\"example.txt\", \"w\") as file:\n",
    "    file.write(\"Hello world!!\")\n",
    "\n",
    "iterator = FileChunkIterator(\"example.txt\", 2)\n",
    "for chunk in iterator:\n",
    "    print(chunk.decode('utf-8'))"
   ]
  },
  {
   "cell_type": "code",
   "execution_count": 15,
   "outputs": [],
   "source": [
    "import tempfile\n",
    "\n",
    "class TestFileChunkIterator(unittest.TestCase):\n",
    "    def setUp(self):\n",
    "        self.temp_file = tempfile.NamedTemporaryFile(delete=False)\n",
    "        self.temp_file.write(b\"Hello world!!\")\n",
    "        self.temp_file.close()\n",
    "\n",
    "    def tearDown(self):\n",
    "        os.remove(self.temp_file.name)\n",
    "\n",
    "    def test_chunk_size_2(self):\n",
    "        iterator = FileChunkIterator(self.temp_file.name, 2)\n",
    "        result = [chunk.decode('utf-8') for chunk in iterator]\n",
    "        self.assertEqual(result, [\"He\", \"ll\", \"o \", \"wo\", \"rl\", \"d!\", \"!\"])\n",
    "\n",
    "    def test_chunk_size_5(self):\n",
    "        iterator = FileChunkIterator(self.temp_file.name, 5)\n",
    "        result = [chunk.decode('utf-8') for chunk in iterator]\n",
    "        self.assertEqual(result, [\"Hello\", \" worl\", \"d!!\"])\n",
    "\n",
    "    def test_large_chunk_size(self):\n",
    "        iterator = FileChunkIterator(self.temp_file.name, 20)\n",
    "        result = [chunk.decode('utf-8') for chunk in iterator]\n",
    "        self.assertEqual(result, [\"Hello world!!\"])"
   ],
   "metadata": {
    "collapsed": false,
    "ExecuteTime": {
     "end_time": "2024-11-10T22:32:54.363801400Z",
     "start_time": "2024-11-10T22:32:54.349106900Z"
    }
   },
   "id": "281da8f15437ff02"
  },
  {
   "cell_type": "markdown",
   "id": "0985c955",
   "metadata": {},
   "source": [
    "# Итератор по подматрицам"
   ]
  },
  {
   "cell_type": "markdown",
   "id": "6dacea80",
   "metadata": {},
   "source": [
    "Реализуйте класс-итератор `SubmatrixIterator`, который принимает на вход матрицу и размер подматрицы (квадратного блока). Итератор должен проходить по всем возможным подматрицам указанного размера и возвращать их одну за другой.\n",
    "\n",
    "**Пример использования:**\n",
    "\n",
    "```python\n",
    "matrix = [\n",
    "    [1, 2, 3, 4],\n",
    "    [5, 6, 7, 8],\n",
    "    [9, 10, 11, 12],\n",
    "    [13, 14, 15, 16]\n",
    "]\n",
    "iterator = SubmatrixIterator(matrix, 2)\n",
    "for submatrix in iterator:\n",
    "    print(submatrix)\n",
    "    \n",
    "# [[1, 2], [5, 6]]\n",
    "# [[2, 3], [6, 7]]\n",
    "# [[3, 4], [7, 8]]\n",
    "# [[5, 6], [9, 10]]\n",
    "# [[6, 7], [10, 11]]\n",
    "# [[7, 8], [11, 12]]\n",
    "# [[9, 10], [13, 14]]\n",
    "# [[10, 11], [14, 15]]\n",
    "# [[11, 12], [15, 16]]\n",
    "```"
   ]
  },
  {
   "cell_type": "code",
   "execution_count": 6,
   "id": "72631b5b",
   "metadata": {
    "ExecuteTime": {
     "end_time": "2024-11-10T22:29:59.234475600Z",
     "start_time": "2024-11-10T22:29:59.199554800Z"
    }
   },
   "outputs": [],
   "source": [
    "class SubmatrixIterator:\n",
    "    def __init__(self, matrix, submatrix_size):\n",
    "        self.matrix = matrix\n",
    "        self.submatrix_size = submatrix_size\n",
    "        self.rows = len(matrix)\n",
    "        self.cols = len(matrix[0]) if matrix else 0\n",
    "        self.current_row = 0\n",
    "        self.current_col = 0\n",
    "\n",
    "    def __iter__(self):\n",
    "        return self\n",
    "\n",
    "    def __next__(self):\n",
    "        if self.current_row > self.rows - self.submatrix_size:\n",
    "            raise StopIteration\n",
    "\n",
    "        submatrix = [\n",
    "            self.matrix[i][self.current_col:self.current_col + self.submatrix_size]\n",
    "            for i in range(self.current_row, self.current_row + self.submatrix_size)\n",
    "        ]\n",
    "\n",
    "        self.current_col += 1\n",
    "        if self.current_col > self.cols - self.submatrix_size:\n",
    "            self.current_col = 0\n",
    "            self.current_row += 1\n",
    "\n",
    "        return submatrix"
   ]
  },
  {
   "cell_type": "code",
   "execution_count": 7,
   "outputs": [
    {
     "name": "stdout",
     "output_type": "stream",
     "text": [
      "[[1, 2], [5, 6]]\n",
      "[[2, 3], [6, 7]]\n",
      "[[3, 4], [7, 8]]\n",
      "[[5, 6], [9, 10]]\n",
      "[[6, 7], [10, 11]]\n",
      "[[7, 8], [11, 12]]\n",
      "[[9, 10], [13, 14]]\n",
      "[[10, 11], [14, 15]]\n",
      "[[11, 12], [15, 16]]\n"
     ]
    }
   ],
   "source": [
    "matrix = [\n",
    "    [1, 2, 3, 4],\n",
    "    [5, 6, 7, 8],\n",
    "    [9, 10, 11, 12],\n",
    "    [13, 14, 15, 16]\n",
    "]\n",
    "iterator = SubmatrixIterator(matrix, 2)\n",
    "for submatrix in iterator:\n",
    "    print(submatrix)"
   ],
   "metadata": {
    "collapsed": false,
    "ExecuteTime": {
     "end_time": "2024-11-10T22:29:59.235472500Z",
     "start_time": "2024-11-10T22:29:59.211444100Z"
    }
   },
   "id": "7456bace2b7a3388"
  },
  {
   "cell_type": "code",
   "execution_count": 8,
   "outputs": [],
   "source": [
    "class TestSubmatrixIterator(unittest.TestCase):\n",
    "    def test_2x2_submatrix(self):\n",
    "        matrix = [\n",
    "            [1, 2, 3, 4],\n",
    "            [5, 6, 7, 8],\n",
    "            [9, 10, 11, 12],\n",
    "            [13, 14, 15, 16]\n",
    "        ]\n",
    "        iterator = SubmatrixIterator(matrix, 2)\n",
    "        result = [submatrix for submatrix in iterator]\n",
    "        expected = [\n",
    "            [[1, 2], [5, 6]],\n",
    "            [[2, 3], [6, 7]],\n",
    "            [[3, 4], [7, 8]],\n",
    "            [[5, 6], [9, 10]],\n",
    "            [[6, 7], [10, 11]],\n",
    "            [[7, 8], [11, 12]],\n",
    "            [[9, 10], [13, 14]],\n",
    "            [[10, 11], [14, 15]],\n",
    "            [[11, 12], [15, 16]]\n",
    "        ]\n",
    "        self.assertEqual(result, expected)\n",
    "\n",
    "    def test_3x3_submatrix(self):\n",
    "        matrix = [\n",
    "            [1, 2, 3, 4],\n",
    "            [5, 6, 7, 8],\n",
    "            [9, 10, 11, 12],\n",
    "            [13, 14, 15, 16]\n",
    "        ]\n",
    "        iterator = SubmatrixIterator(matrix, 3)\n",
    "        result = [submatrix for submatrix in iterator]\n",
    "        expected = [\n",
    "            [[1, 2, 3], [5, 6, 7], [9, 10, 11]],\n",
    "            [[2, 3, 4], [6, 7, 8], [10, 11, 12]],\n",
    "            [[5, 6, 7], [9, 10, 11], [13, 14, 15]],\n",
    "            [[6, 7, 8], [10, 11, 12], [14, 15, 16]]\n",
    "        ]\n",
    "        self.assertEqual(result, expected)"
   ],
   "metadata": {
    "collapsed": false,
    "ExecuteTime": {
     "end_time": "2024-11-10T22:29:59.236477600Z",
     "start_time": "2024-11-10T22:29:59.225469Z"
    }
   },
   "id": "b53db5ac88fb34b3"
  },
  {
   "cell_type": "markdown",
   "id": "f1ad35a0",
   "metadata": {
    "ExecuteTime": {
     "end_time": "2024-11-03T14:20:40.010708Z",
     "start_time": "2024-11-03T14:20:39.997523Z"
    }
   },
   "source": [
    "# Построчного чтение всех файлов в директории"
   ]
  },
  {
   "cell_type": "markdown",
   "id": "ca37eddc",
   "metadata": {},
   "source": [
    "Реализуйте класс-итератор  `RecursiveFileLineIteratorNoHidden`, который принимает на вход путь к директории и рекурсивно проходит по всем файлам, включая файлы во вложенных директориях. Итератор должен возвращать строки из каждого файла построчно, игнорируя файлы и директории, названия которых начинаются с точки (.), т.е. скрытые файлы и папки.\n",
    "\n",
    "**Условия:**\n",
    "1.\tИтератор должен проходить по всем файлам в указанной директории и всех её поддиректориях, кроме тех, что начинаются с точки (.).\n",
    "2.\tИтератор должен возвращать строки из каждого файла поочерёдно, построчно.\n",
    "3.\tПоддерживаются только текстовые файлы.\n",
    "4.\tПосле завершения чтения всех файлов итератор должен завершить работу, поднимая StopIteration.\n",
    "5.\tОбработайте ситуацию, если файл не может быть открыт (например, из-за ошибок доступа).\n",
    "\n",
    "**Пример использования:**\n",
    "\n",
    "```python\n",
    "iterator = RecursiveFileLineIteratorNoHidden(\"./test\")\n",
    "for line in iterator:\n",
    "    print(line)\n",
    "    \n",
    "# Example 1\n",
    "# Example 2\n",
    "# Example 3\n",
    "# Example 4\n",
    "# Subfolder Example 1\n",
    "# Subfolder Example 2\n",
    "# Subfolder Example 3\n",
    "# Subfolder Example 4    \n",
    "```\n",
    "\n",
    "Для выполнения задания потребуются несколько методов из модуля os, которые позволяют работать с файловой системой в Python. Давайте подробно рассмотрим их.\n",
    "\n",
    "\n",
    "`os.walk(top, topdown=True, onerror=None, followlinks=False)` — это генератор, который рекурсивно обходит директории и поддиректории, начиная с указанного пути top. На каждом шаге возвращается кортеж, содержащий текущую директорию, список поддиректорий и список файлов.\n",
    "\n",
    "Возвращаемые значения:\n",
    "* root: Текущая директория, в которой находимся в данный момент обхода.\n",
    "* dirs: Список поддиректорий в текущей root директории.\n",
    "* files: Список файлов в текущей root директории.\n",
    "\n",
    "`os.path.join(path, *paths)` объединяет один или несколько компонентов пути, возвращая корректный путь, соответствующий операционной системе. Это полезно для построения путей к файлам и директориям в кросс-платформенном формате.\n",
    "\n",
    "```python\n",
    "root = \"/path/to/directory\"\n",
    "file_name = \"example.txt\"\n",
    "full_path = os.path.join(root, file_name)\n",
    "print(full_path)  # Вывод: \"/path/to/directory/example.txt\"\n",
    "```\n",
    "\n",
    "`os.path.isfile(path)` проверяет, является ли указанный путь файлом. Возвращает True, если path указывает на файл, и False, если это директория или объект другого типа.\n",
    "\n",
    "```python\n",
    "file_path = \"/path/to/file.txt\"\n",
    "if os.path.isfile(file_path):\n",
    "    print(\"Это файл.\")\n",
    "else:\n",
    "    print(\"Это не файл.\")\n",
    "```\n",
    "\n",
    "`os.path.basename(path)` возвращает базовое имя файла или директории из пути. Это полезно, если нужно получить только имя файла или папки, без остальных компонентов пути.\n",
    "\n",
    "```python\n",
    "file_path = \"/path/to/file.txt\"\n",
    "print(os.path.basename(file_path))  # Вывод: \"file.txt\"\n",
    "```\n",
    "\n",
    "`os.path.isdir(path)` проверяет, является ли указанный путь директорией. Возвращает True, если path указывает на директорию, и False, если это файл или объект другого типа.\n",
    "\n",
    "```python\n",
    "dir_path = \"/path/to/directory\"\n",
    "if os.path.isdir(dir_path):\n",
    "    print(\"Это директория.\")\n",
    "else:\n",
    "    print(\"Это не директория.\")\n",
    "```"
   ]
  },
  {
   "cell_type": "code",
   "execution_count": 9,
   "id": "cccfe52c",
   "metadata": {
    "ExecuteTime": {
     "end_time": "2024-11-10T22:29:59.298243500Z",
     "start_time": "2024-11-10T22:29:59.236477600Z"
    }
   },
   "outputs": [],
   "source": [
    "import os\n",
    "\n",
    "class RecursiveFileLineIteratorNoHidden:\n",
    "    def __init__(self, directory):\n",
    "        self.directory = directory\n",
    "        self.files = []\n",
    "        self.file_index = 0\n",
    "        self.current_file = None\n",
    "\n",
    "        for root, dirs, files in os.walk(self.directory):\n",
    "            dirs[:] = [d for d in dirs if not d.startswith('.')]\n",
    "            for file in files:\n",
    "                if not file.startswith('.'):\n",
    "                    self.files.append(os.path.join(root, file))\n",
    "\n",
    "    def __iter__(self):\n",
    "        return self\n",
    "\n",
    "    def __next__(self):\n",
    "        while self.current_file is None or self.current_line is None:\n",
    "            if self.file_index >= len(self.files):\n",
    "                raise StopIteration\n",
    "\n",
    "            file_path = self.files[self.file_index]\n",
    "            self.file_index += 1\n",
    "\n",
    "            try:\n",
    "                self.current_file = open(file_path, 'r', encoding='utf-8')\n",
    "                self.current_line = self.current_file.readline()\n",
    "            except (IOError, OSError):\n",
    "                self.current_file = None\n",
    "                continue\n",
    "\n",
    "        line = self.current_line\n",
    "        self.current_line = self.current_file.readline()\n",
    "\n",
    "        if not self.current_line:\n",
    "            self.current_file.close()\n",
    "            self.current_file = None\n",
    "            self.current_line = None\n",
    "\n",
    "        return line.strip()\n",
    "\n",
    "    def __del__(self):\n",
    "        if self.current_file and not self.current_file.closed:\n",
    "            self.current_file.close()"
   ]
  },
  {
   "cell_type": "code",
   "execution_count": 10,
   "outputs": [
    {
     "name": "stdout",
     "output_type": "stream",
     "text": [
      "Example 1\n",
      "Example 2\n",
      "Example 3\n",
      "Example 4\n",
      "Subfolder Example 1\n",
      "Subfolder Example 2\n",
      "Subfolder Example 3\n",
      "Subfolder Example 4\n"
     ]
    }
   ],
   "source": [
    "iterator = RecursiveFileLineIteratorNoHidden(\"./test\")\n",
    "for line in iterator:\n",
    "    print(line)"
   ],
   "metadata": {
    "collapsed": false,
    "ExecuteTime": {
     "end_time": "2024-11-10T22:29:59.307152500Z",
     "start_time": "2024-11-10T22:29:59.247280500Z"
    }
   },
   "id": "5ae2c91ded0b3ece"
  },
  {
   "cell_type": "code",
   "execution_count": 16,
   "outputs": [
    {
     "name": "stderr",
     "output_type": "stream",
     "text": [
      "...........\n",
      "----------------------------------------------------------------------\n",
      "Ran 11 tests in 0.024s\n",
      "\n",
      "OK\n"
     ]
    }
   ],
   "source": [
    "class TestRecursiveFileLineIteratorNoHidden(unittest.TestCase):\n",
    "    def setUp(self):\n",
    "        self.test_dir = tempfile.TemporaryDirectory()\n",
    "        with open(os.path.join(self.test_dir.name, \"file1.txt\"), \"w\") as f:\n",
    "            f.write(\"Hello\\nworld!!\\n\")\n",
    "        os.makedirs(os.path.join(self.test_dir.name, \"subfolder\"))\n",
    "        with open(os.path.join(self.test_dir.name, \"subfolder\", \"file2.txt\"), \"w\") as f:\n",
    "            f.write(\"Subfolder Example 1\\nSubfolder Example 2\\n\")\n",
    "\n",
    "    def tearDown(self):\n",
    "        self.test_dir.cleanup()\n",
    "\n",
    "    def test_line_iteration(self):\n",
    "        iterator = RecursiveFileLineIteratorNoHidden(self.test_dir.name)\n",
    "        result = [line for line in iterator]\n",
    "        expected = [\n",
    "            \"Hello\",\n",
    "            \"world!!\",\n",
    "            \"Subfolder Example 1\",\n",
    "            \"Subfolder Example 2\"\n",
    "        ]\n",
    "        self.assertEqual(result, expected)\n",
    "\n",
    "    def test_hidden_files_ignored(self):\n",
    "        with open(os.path.join(self.test_dir.name, \".hidden_file.txt\"), \"w\") as f:\n",
    "            f.write(\"This should be ignored.\\n\")\n",
    "        iterator = RecursiveFileLineIteratorNoHidden(self.test_dir.name)\n",
    "        result = [line for line in iterator]\n",
    "        expected = [\n",
    "            \"Hello\",\n",
    "            \"world!!\",\n",
    "            \"Subfolder Example 1\",\n",
    "            \"Subfolder Example 2\"\n",
    "        ]\n",
    "        self.assertEqual(result, expected)\n",
    "\n",
    "if __name__ == '__main__':\n",
    "    unittest.main(argv=[''], exit=False)"
   ],
   "metadata": {
    "collapsed": false,
    "ExecuteTime": {
     "end_time": "2024-11-10T22:32:59.125143700Z",
     "start_time": "2024-11-10T22:32:59.073135600Z"
    }
   },
   "id": "3552733d5d053d0"
  }
 ],
 "metadata": {
  "kernelspec": {
   "display_name": "Python 3 (ipykernel)",
   "language": "python",
   "name": "python3"
  },
  "language_info": {
   "codemirror_mode": {
    "name": "ipython",
    "version": 3
   },
   "file_extension": ".py",
   "mimetype": "text/x-python",
   "name": "python",
   "nbconvert_exporter": "python",
   "pygments_lexer": "ipython3",
   "version": "3.9.7"
  }
 },
 "nbformat": 4,
 "nbformat_minor": 5
}
