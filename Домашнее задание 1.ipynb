{
  "cells": [
    {
      "cell_type": "markdown",
      "id": "1d227b09",
      "metadata": {
        "id": "1d227b09"
      },
      "source": [
        "# Парное выравнивание"
      ]
    },
    {
      "cell_type": "markdown",
      "id": "09ebf420",
      "metadata": {
        "id": "09ebf420"
      },
      "source": [
        "# Порядок сдачи домашнего"
      ]
    },
    {
      "cell_type": "markdown",
      "id": "b2e6a39f",
      "metadata": {
        "ExecuteTime": {
          "end_time": "2024-09-23T05:46:49.255523Z",
          "start_time": "2024-09-23T05:46:49.234264Z"
        },
        "id": "b2e6a39f"
      },
      "source": [
        "Вам требуется создать гит репозиторий куда вы будете складывать все ваши домашние. Под каждое домашнее вы создаете отдельную ветку куда вносите все изменения в рамках домашнего. Как только домашнее готово - создаете пулл реквест (обратите внимание что в пулл реквесте должны быть отражены все изменения в рамках домашнего). Ревьювера назначаете из таблицы - https://docs.google.com/spreadsheets/d/1vK6IgEqaqXniUJAQOOspiL_tx3EYTSXW1cUrMHAZFr8/edit?gid=0#gid=0\n",
        "Перед сдачей проверьте код, напишите тесты. Не забудьте про PEP8, например, с помощью flake8. Задание нужно делать в jupyter notebook.\n",
        "\n",
        "**Дедлайн - 30 сентября 10:00**"
      ]
    },
    {
      "cell_type": "markdown",
      "id": "d33c83c9",
      "metadata": {
        "id": "d33c83c9"
      },
      "source": [
        "# Введение\n",
        "\n",
        "**Выравнивание последовательностей** — фундаментальный инструмент в биоинформатике, позволяющий сравнивать биологические последовательности (ДНК, РНК, белки) для выявления сходства, которое может указывать на функциональные, структурные или эволюционные связи между ними.\n",
        "\n",
        "**Парное выравнивание** подразумевает сравнение двух последовательностей для определения наилучшего соответствия между их элементами (нуклеотидами или аминокислотами). Существует два основных типа парного выравнивания:\n",
        "\n",
        "- **Глобальное выравнивание**: направлено на выравнивание всей длины двух последовательностей, максимально учитывая все элементы.\n",
        "- **Локальное выравнивание**: нацелено на поиск наилучшего соответствующего участка внутри двух последовательностей.\n",
        "\n",
        "В данном домашнем задании мы с вами сконцентрируемся на **глобальном выравнивании**."
      ]
    },
    {
      "cell_type": "markdown",
      "id": "3265888c",
      "metadata": {
        "id": "3265888c"
      },
      "source": [
        "### Пример парного выравнивания\n",
        "\n",
        "Рассмотрим две нуклеотидные последовательности:\n",
        "\n",
        "```\n",
        "Последовательность 1 (Seq1): A G C T A C G A\n",
        "Последовательность 2 (Seq2): G C T A G A\n",
        "```\n",
        "\n",
        "**Глобальное выравнивание** (учитывает всю длину последовательностей):\n",
        "\n",
        "```\n",
        "Seq1: A G C T A C G A\n",
        "Seq2: - G C T A - G A\n",
        "```"
      ]
    },
    {
      "cell_type": "markdown",
      "id": "575fa50e",
      "metadata": {
        "id": "575fa50e"
      },
      "source": [
        "### Значение выравнивания последовательностей\n",
        "\n",
        "- **Эволюционные связи**: Сходство между последовательностями может указывать на общих предков.\n",
        "- **Функциональные домены**: Выравнивание помогает идентифицировать консервативные участки, важные для функции белка или нуклеиновой кислоты.\n",
        "- **Геномные исследования**: Используется для аннотации генов, предсказания структур и понимания генетических вариаций."
      ]
    },
    {
      "cell_type": "markdown",
      "id": "75ff52f7",
      "metadata": {
        "id": "75ff52f7"
      },
      "source": [
        "## Алгоритм выравнивания\n",
        "\n",
        "- Для автоматизации процесса выравнивания используется **Алгоритм Нидлмана-Вунша**. Он предназначен для глобального выравнивания и использует динамическое программирование для нахождения оптимального выравнивания по всей длине последовательностей.\n",
        "- Для оценки сходства при выравнивании белковых последовательностей используется матрица **BLOSUM** (Blocks Substitution Matrix). Матрицы BLOSUM создаются на основе статистического анализа реальных белковых множественных выравниваний последовательностей."
      ]
    },
    {
      "cell_type": "markdown",
      "id": "5ee2122f",
      "metadata": {
        "id": "5ee2122f"
      },
      "source": [
        "### Пример множественного выравнивания (для построения матрциы BLOSUM)\n",
        "\n",
        "Рассмотрим нуклеотидные последовательности:\n",
        "\n",
        "```\n",
        "Последовательность 1 (Seq1): A G C T A C G T G T C G C T G A A T C T A T G A C T\n",
        "Последовательность 2 (Seq2): G C T A G A G C A A G G C A A C T G C A T C T\n",
        "Последовательность 3 (Seq3): A C T G C A C C C A T G A A C C T C G C G C T\n",
        "Последовательность 4 (Seq4): A C T G C A C C C A T G A A C C T C T C G C T\n",
        "Последовательность 5 (Seq5): A C T G C A C C C A T G A A C C T C T C G C T\n",
        "Последовательность 6 (Seq6): A C T G C A C C C A T G A A C C T C T C A C T\n",
        "Последовательность 7 (Seq7): A C T G C A C C C A T G A A C C T C T C A C T\n",
        "```\n",
        "\n",
        "**Множественное выравнивание**:\n",
        "\n",
        "```\n",
        "Seq1: A G C T A C G T G T C G C T G A A T C T A T G A C T\n",
        "Seq2: - G C T A - G A G C A - A G G C A A C T G C A T C T\n",
        "Seq3: A - C T G - C A C C C - A T G A A C C T C G C G C T\n",
        "Seq4: A - C T G - C A C C C - A T G A A C C T C T C G C T\n",
        "Seq5: A - C T G - C A C C C - A T G A A C C T C T C G C T\n",
        "Seq6: A - C T G - C A C C C - A T G A A C C T C T C A C T\n",
        "Seq7: A - C T G - C A C C C - A T G A A C C T C T C A C T\n",
        "```"
      ]
    },
    {
      "cell_type": "markdown",
      "id": "fe15af34",
      "metadata": {
        "id": "fe15af34"
      },
      "source": [
        "Перед тем как приступать к реализации парного выравнивания давайте научимся считать матрицу BLOSUM."
      ]
    },
    {
      "cell_type": "markdown",
      "id": "4efffee5",
      "metadata": {
        "id": "4efffee5"
      },
      "source": [
        "# Матрица BLOSUM"
      ]
    },
    {
      "cell_type": "markdown",
      "id": "d424f7b8",
      "metadata": {
        "ExecuteTime": {
          "end_time": "2024-09-19T05:35:03.002840Z",
          "start_time": "2024-09-19T05:35:02.980986Z"
        },
        "id": "d424f7b8"
      },
      "source": [
        "## Подсчет частот пар нуклеотидов\n",
        "\n",
        "### Шаг 1.1: Генерация пар нуклеотидов\n",
        "\n",
        "Напишите функцию `generate_pairs(alignments)`, которая проходит по всем позициям выравнивания (одного столбца) и генерирует все возможные пары нуклеотидов в этой позиции.\n",
        "\n",
        "**Пример**:\n",
        "\n",
        "Рассмотрим на примере множественного выравнивания выше:\n",
        "\n",
        "```\n",
        "generate_pairs([\"A\", \"A\", \"G\"])\n",
        "[('A', 'A'), ('A', 'G'), ('A', 'G')]\n",
        "\n",
        "generate_pairs([\"T\", \"T\", \"T\"])\n",
        "[('T', 'T'), ('T', 'T'), ('T', 'T')]\n",
        "\n",
        "generate_pairs([\"G\", \"G\", \"-\"])\n",
        "[('G', 'G'), ('G', '-'), ('G', '-')]\n",
        "\n",
        "len(generate_pairs(['A', 'T', 'G', 'G', 'G', 'A', 'A']))\n",
        "21\n",
        "```"
      ]
    },
    {
      "cell_type": "code",
      "execution_count": 38,
      "id": "a693a08c",
      "metadata": {
        "ExecuteTime": {
          "end_time": "2024-09-20T07:42:12.795151Z",
          "start_time": "2024-09-20T07:42:12.788005Z"
        },
        "id": "a693a08c"
      },
      "outputs": [],
      "source": [
        "alignments = [\"AGCTACGTGTCGCTGAATCTATGACT\",\n",
        "              \"-GCTA-GAGCA-AGGCAACTGCATCT\",\n",
        "              \"A-CTG-CACCC-ATGAACCTCGCGCT\",\n",
        "              \"A-CTG-CACCC-ATGAACCTCTCGCT\",\n",
        "              \"A-CTG-CACCC-ATGAACCTCTCGCT\",\n",
        "              \"A-CTG-CACCC-ATGAACCTCTCACT\",\n",
        "              \"A-CTG-CACCC-ATGAACCTCTCACT\"\n",
        "             ]"
      ]
    },
    {
      "cell_type": "code",
      "source": [
        "import unittest\n",
        "from itertools import combinations"
      ],
      "metadata": {
        "id": "-LwyKUbISyNl"
      },
      "id": "-LwyKUbISyNl",
      "execution_count": 39,
      "outputs": []
    },
    {
      "cell_type": "code",
      "execution_count": 40,
      "id": "cc0fda11",
      "metadata": {
        "ExecuteTime": {
          "end_time": "2024-09-20T07:42:12.798926Z",
          "start_time": "2024-09-20T07:42:12.796705Z"
        },
        "id": "cc0fda11"
      },
      "outputs": [],
      "source": [
        "def generate_pairs(alignments):\n",
        "    return list(combinations(alignments, 2))"
      ]
    },
    {
      "cell_type": "code",
      "source": [
        "generate_pairs([\"G\", \"G\", \"-\"])"
      ],
      "metadata": {
        "colab": {
          "base_uri": "https://localhost:8080/"
        },
        "id": "W0ERqTw0gvf2",
        "outputId": "ba553f62-4353-41ab-9a6e-41727099e94c"
      },
      "id": "W0ERqTw0gvf2",
      "execution_count": 41,
      "outputs": [
        {
          "output_type": "execute_result",
          "data": {
            "text/plain": [
              "[('G', 'G'), ('G', '-'), ('G', '-')]"
            ]
          },
          "metadata": {},
          "execution_count": 41
        }
      ]
    },
    {
      "cell_type": "code",
      "source": [
        "len(generate_pairs(['A', 'T', 'G', 'G', 'G', 'A', 'A']))"
      ],
      "metadata": {
        "colab": {
          "base_uri": "https://localhost:8080/"
        },
        "id": "bfQqZ5X4gw0z",
        "outputId": "dccd601c-f56d-4f13-9570-792b99c680c3"
      },
      "id": "bfQqZ5X4gw0z",
      "execution_count": 42,
      "outputs": [
        {
          "output_type": "execute_result",
          "data": {
            "text/plain": [
              "21"
            ]
          },
          "metadata": {},
          "execution_count": 42
        }
      ]
    },
    {
      "cell_type": "code",
      "source": [
        "class TestGeneratePairs(unittest.TestCase):\n",
        "\n",
        "    def test_example_1(self):\n",
        "        result = generate_pairs([\"A\", \"A\", \"G\"])\n",
        "        expected = [('A', 'A'), ('A', 'G'), ('A', 'G')]\n",
        "        self.assertEqual(result, expected)\n",
        "\n",
        "    def test_example_2(self):\n",
        "        result = generate_pairs([\"T\", \"T\", \"T\"])\n",
        "        expected = [('T', 'T'), ('T', 'T'), ('T', 'T')]\n",
        "        self.assertEqual(result, expected)\n",
        "\n",
        "    def test_example_3(self):\n",
        "        result = generate_pairs([\"G\", \"G\", \"-\"])\n",
        "        expected = [('G', 'G'), ('G', '-'), ('G', '-')]\n",
        "        self.assertEqual(result, expected)\n",
        "\n",
        "    def test_length(self):\n",
        "        result = generate_pairs(['A', 'T', 'G', 'G', 'G', 'A', 'A'])\n",
        "        self.assertEqual(len(result), 21)"
      ],
      "metadata": {
        "id": "5E1mJHQoS5nj"
      },
      "id": "5E1mJHQoS5nj",
      "execution_count": 43,
      "outputs": []
    },
    {
      "cell_type": "markdown",
      "source": [],
      "metadata": {
        "id": "8ybcScjNS5X5"
      },
      "id": "8ybcScjNS5X5"
    },
    {
      "cell_type": "markdown",
      "id": "b2a33a17",
      "metadata": {
        "id": "b2a33a17"
      },
      "source": [
        "### Шаг 1.2: Подсчет частот пар\n",
        "\n",
        "Используйте полученные пары для подсчета частоты каждой пары нуклеотидов. Создайте словарь `pair_counts`, где ключом является кортеж из двух нуклеотидов, а значением — количество их совместных появлений. Пропуски в выравнивании нужно пропускать (если один из символ в выравнивании `'-'`)\n",
        "\n",
        "**Подсказка**: Учитывайте, что матрица симметрична, поэтому пары `('A','G')` и `('G','A')` должны считаться одинаковыми.\n",
        "\n",
        "**Пример**:\n",
        "\n",
        "```\n",
        "pair_counts = count_pairs(alignments)\n",
        "pair_counts\n",
        "{('A', 'A'): 85, ('G', 'G'): 37, ('C', 'C'): 143, ('T', 'T'): 88, ('A', 'G'): 21,\n",
        " ('C', 'G'): 31, ('A', 'T'): 10, ('C', 'T'): 16, ('A', 'C'): 33, ('G', 'T'): 14}\n",
        "```"
      ]
    },
    {
      "cell_type": "code",
      "source": [
        "from collections import defaultdict"
      ],
      "metadata": {
        "id": "5NSpI9YJTUY5"
      },
      "id": "5NSpI9YJTUY5",
      "execution_count": 44,
      "outputs": []
    },
    {
      "cell_type": "code",
      "execution_count": 45,
      "id": "70cc891c",
      "metadata": {
        "ExecuteTime": {
          "end_time": "2024-09-20T07:42:12.805520Z",
          "start_time": "2024-09-20T07:42:12.803627Z"
        },
        "id": "70cc891c"
      },
      "outputs": [],
      "source": [
        "def count_pairs(alignments):\n",
        "    pair_counts = defaultdict(int)\n",
        "\n",
        "    num_columns = len(alignments[0])\n",
        "    for i in range(num_columns):\n",
        "        column = [alignment[i] for alignment in alignments]\n",
        "\n",
        "        pairs = generate_pairs(column)\n",
        "\n",
        "        for pair in pairs:\n",
        "            if '-' in pair:\n",
        "                continue\n",
        "            sorted_pair = tuple(sorted(pair))\n",
        "            pair_counts[sorted_pair] += 1\n",
        "\n",
        "    return dict(pair_counts)"
      ]
    },
    {
      "cell_type": "code",
      "source": [
        "pair_counts = count_pairs(alignments)\n",
        "pair_counts"
      ],
      "metadata": {
        "colab": {
          "base_uri": "https://localhost:8080/"
        },
        "id": "n7JGpiPkTuqI",
        "outputId": "a759c6bf-562c-4b07-d6db-a8f45e02cf12"
      },
      "id": "n7JGpiPkTuqI",
      "execution_count": 46,
      "outputs": [
        {
          "output_type": "execute_result",
          "data": {
            "text/plain": [
              "{('A', 'A'): 85,\n",
              " ('G', 'G'): 37,\n",
              " ('C', 'C'): 143,\n",
              " ('T', 'T'): 88,\n",
              " ('A', 'G'): 21,\n",
              " ('C', 'G'): 31,\n",
              " ('A', 'T'): 10,\n",
              " ('C', 'T'): 16,\n",
              " ('A', 'C'): 33,\n",
              " ('G', 'T'): 14}"
            ]
          },
          "metadata": {},
          "execution_count": 46
        }
      ]
    },
    {
      "cell_type": "code",
      "source": [
        "class TestCountPairs(unittest.TestCase):\n",
        "\n",
        "    def test_example_1(self):\n",
        "        alignments = [\"AGC\",\n",
        "                      \"-GC\",\n",
        "                      \"A-C\"]\n",
        "        result = count_pairs(alignments)\n",
        "        expected = {('A', 'A'): 1, ('G', 'G'): 1, ('C', 'C'): 3}\n",
        "        self.assertEqual(result, expected)\n",
        "\n",
        "    def test_example_2(self):\n",
        "        alignments = [\"AAA\",\n",
        "                      \"A-A\",\n",
        "                      \"A-A\"]\n",
        "        result = count_pairs(alignments)\n",
        "        expected = {('A', 'A'): 6}\n",
        "        self.assertEqual(result, expected)\n",
        "\n",
        "    def test_no_pairs(self):\n",
        "        alignments = [\"A\",\n",
        "                      \"-\",\n",
        "                      \"A\"]\n",
        "        result = count_pairs(alignments)\n",
        "        expected = {('A', 'A'): 1}\n",
        "        self.assertEqual(result, expected)\n",
        "\n",
        "    def test_all_gaps(self):\n",
        "        alignments = [\"-\",\n",
        "                      \"-\",\n",
        "                      \"-\"]\n",
        "        result = count_pairs(alignments)\n",
        "        expected = {}\n",
        "        self.assertEqual(result, expected)"
      ],
      "metadata": {
        "id": "exhtMIY5Tmj8"
      },
      "id": "exhtMIY5Tmj8",
      "execution_count": 47,
      "outputs": []
    },
    {
      "cell_type": "markdown",
      "id": "528faeca",
      "metadata": {
        "id": "528faeca"
      },
      "source": [
        "## Вычисление ожидаемых частот"
      ]
    },
    {
      "cell_type": "markdown",
      "id": "351ef841",
      "metadata": {
        "ExecuteTime": {
          "end_time": "2024-09-19T07:27:32.026037Z",
          "start_time": "2024-09-19T07:27:32.008635Z"
        },
        "id": "351ef841"
      },
      "source": [
        "Реализуйте функцию `calculate_frequencies`, которая будет вычислять частоту нуклеотида по множественному выравниванию\n",
        "\n",
        "**Пример**:\n",
        "\n",
        "```\n",
        "freqs = calculate_frequencies(alignments)\n",
        "print(\"Частоты:\")\n",
        "for x, freq in freqs.items():\n",
        "    print(f\"{x}: {freq:.4f}\")\n",
        "    \n",
        "Частоты:\n",
        "A: 0.2439\n",
        "G: 0.1585\n",
        "C: 0.3780\n",
        "T: 0.2195\n",
        "```"
      ]
    },
    {
      "cell_type": "code",
      "execution_count": 48,
      "id": "ae017aee",
      "metadata": {
        "ExecuteTime": {
          "end_time": "2024-09-20T07:55:17.618141Z",
          "start_time": "2024-09-20T07:55:17.610470Z"
        },
        "id": "ae017aee"
      },
      "outputs": [],
      "source": [
        "def calculate_frequencies(alignments):\n",
        "    nucleotide_counts = defaultdict(int)\n",
        "    total_count = 0\n",
        "\n",
        "    for alignment in alignments:\n",
        "        for nucleotide in alignment:\n",
        "            if nucleotide != '-':\n",
        "                nucleotide_counts[nucleotide] += 1\n",
        "                total_count += 1\n",
        "\n",
        "    frequencies = {nucleotide: count / total_count for nucleotide, count in nucleotide_counts.items()}\n",
        "\n",
        "    return frequencies"
      ]
    },
    {
      "cell_type": "code",
      "source": [
        "freqs = calculate_frequencies(alignments)\n",
        "print(\"Частоты:\")\n",
        "for x, freq in freqs.items():\n",
        "    print(f\"{x}: {freq:.4f}\")"
      ],
      "metadata": {
        "colab": {
          "base_uri": "https://localhost:8080/"
        },
        "id": "jceyWuzbVIA4",
        "outputId": "8c01cbd3-c8d2-45c6-ecf5-176955984c4c"
      },
      "id": "jceyWuzbVIA4",
      "execution_count": 49,
      "outputs": [
        {
          "output_type": "stream",
          "name": "stdout",
          "text": [
            "Частоты:\n",
            "A: 0.2439\n",
            "G: 0.1585\n",
            "C: 0.3780\n",
            "T: 0.2195\n"
          ]
        }
      ]
    },
    {
      "cell_type": "code",
      "source": [
        "class TestCalculateFrequencies(unittest.TestCase):\n",
        "\n",
        "    def test_simple_case(self):\n",
        "        alignments = [\"AGC\", \"AGC\", \"AGC\"]\n",
        "        result = calculate_frequencies(alignments)\n",
        "        expected = {'A': 1/3, 'G': 1/3, 'C': 1/3}\n",
        "        self.assertAlmostEqual(result['A'], expected['A'])\n",
        "        self.assertAlmostEqual(result['G'], expected['G'])\n",
        "        self.assertAlmostEqual(result['C'], expected['C'])\n",
        "\n",
        "    def test_with_gaps(self):\n",
        "        alignments = [\"A-G\", \"A-G\", \"A-G\"]\n",
        "        result = calculate_frequencies(alignments)\n",
        "        expected = {'A': 1/2, 'G': 1/2}\n",
        "        self.assertAlmostEqual(result['A'], expected['A'])\n",
        "        self.assertAlmostEqual(result['G'], expected['G'])\n",
        "\n",
        "    def test_mixed_nucleotides(self):\n",
        "        alignments = [\"ATGC\", \"A-TG\", \"-ATG\"]\n",
        "        result = calculate_frequencies(alignments)\n",
        "        expected = {\n",
        "            'A': 3/10,\n",
        "            'T': 3/10,\n",
        "            'G': 3/10,\n",
        "            'C': 1/10\n",
        "        }\n",
        "        for nucleotide in expected:\n",
        "            self.assertEqual(result[nucleotide], expected[nucleotide])\n",
        "\n",
        "    def test_empty_alignments(self):\n",
        "        alignments = [\"---\", \"---\", \"---\"]\n",
        "        result = calculate_frequencies(alignments)\n",
        "        expected = {}\n",
        "        self.assertEqual(result, expected)\n",
        "\n",
        "    def test_single_nucleotide(self):\n",
        "        alignments = [\"A\", \"A\", \"A\"]\n",
        "        result = calculate_frequencies(alignments)\n",
        "        expected = {'A': 1.0}\n",
        "        self.assertEqual(result, expected)"
      ],
      "metadata": {
        "id": "6CTuifwTVcJD"
      },
      "id": "6CTuifwTVcJD",
      "execution_count": 50,
      "outputs": []
    },
    {
      "cell_type": "markdown",
      "id": "6bcd02ff",
      "metadata": {
        "id": "6bcd02ff"
      },
      "source": [
        "##  Расчет логарифмических коэффициентов"
      ]
    },
    {
      "cell_type": "markdown",
      "id": "056d0896",
      "metadata": {
        "id": "056d0896"
      },
      "source": [
        "- Для каждой пары нуклеотидов `(x, y)` вычислите логарифмический коэффициент замены по формуле:\n",
        "\n",
        "\n",
        "$$S(x, y) = scale * \\log_2 \\left( \\frac{observed\\_freq[x, y]}{expected\\_freq[x, y]} \\right)$$\n",
        "\n",
        "- Здесь `observed_freq` — наблюдаемая частота пары из `pair_counts` деленное на общее количество пар, а `expected_freq` — ожидаемая частота, которую можно вычислить как `expected_freq[x, y] = freqs[x] * freqs[y]`\n",
        "\n",
        "- Для удобства представления округлите значения `S(x, y)` до целых чисел, умножив на масштабный фактор (например, 3).\n",
        "\n",
        "**Пример:**\n",
        "\n",
        "```python\n",
        "scores = calculate_scores(pair_counts, freqs)\n",
        "scores\n",
        "{('A', 'A'): 5, ('G', 'G'): 5, ('C', 'C'): 3, ('T', 'T'): 6, ('A', 'G'): 1,\n",
        " ('C', 'G'): 0, ('A', 'T'): -3, ('C', 'T'): -3, ('A', 'C'): 0, ('G', 'T'): 0}\n",
        "```\n"
      ]
    },
    {
      "cell_type": "code",
      "source": [
        "import math"
      ],
      "metadata": {
        "id": "g5k9GBfwXBHa"
      },
      "id": "g5k9GBfwXBHa",
      "execution_count": 51,
      "outputs": []
    },
    {
      "cell_type": "code",
      "execution_count": 52,
      "id": "96bfcb12",
      "metadata": {
        "ExecuteTime": {
          "end_time": "2024-09-20T07:57:32.470771Z",
          "start_time": "2024-09-20T07:57:32.458314Z"
        },
        "id": "96bfcb12"
      },
      "outputs": [],
      "source": [
        "def calculate_scores(pair_counts, freqs, scale=3):\n",
        "    total_pairs = sum(pair_counts.values())\n",
        "\n",
        "    scores = {}\n",
        "\n",
        "    for (x, y), observed_count in pair_counts.items():\n",
        "        observed_freq = observed_count / total_pairs\n",
        "\n",
        "        expected_freq = freqs[x] * freqs[y]\n",
        "\n",
        "        if expected_freq > 0:\n",
        "            score = scale * math.log2(observed_freq / expected_freq)\n",
        "        else:\n",
        "            score = 0\n",
        "\n",
        "        scores[(x, y)] = round(score)\n",
        "\n",
        "    return scores"
      ]
    },
    {
      "cell_type": "code",
      "source": [
        "scores = calculate_scores(pair_counts, freqs)\n",
        "scores"
      ],
      "metadata": {
        "colab": {
          "base_uri": "https://localhost:8080/"
        },
        "id": "zyq5ImDBXKSD",
        "outputId": "ac7d84d6-d7e5-4477-9845-1c282b58d71b"
      },
      "id": "zyq5ImDBXKSD",
      "execution_count": 53,
      "outputs": [
        {
          "output_type": "execute_result",
          "data": {
            "text/plain": [
              "{('A', 'A'): 5,\n",
              " ('G', 'G'): 5,\n",
              " ('C', 'C'): 3,\n",
              " ('T', 'T'): 6,\n",
              " ('A', 'G'): 1,\n",
              " ('C', 'G'): 0,\n",
              " ('A', 'T'): -4,\n",
              " ('C', 'T'): -4,\n",
              " ('A', 'C'): -1,\n",
              " ('G', 'T'): -1}"
            ]
          },
          "metadata": {},
          "execution_count": 53
        }
      ]
    },
    {
      "cell_type": "code",
      "source": [
        "class TestCalculateScores(unittest.TestCase):\n",
        "\n",
        "    def test_basic_case(self):\n",
        "        pair_counts = {('A', 'A'): 10, ('A', 'C'): 5}\n",
        "        freqs = {'A': 0.7, 'C': 0.3}\n",
        "        expected = {('A', 'A'): 1, ('A', 'C'): 2}\n",
        "        result = calculate_scores(pair_counts, freqs, scale=3)\n",
        "        self.assertEqual(result, expected)"
      ],
      "metadata": {
        "id": "RbY6IiLOfVtT"
      },
      "id": "RbY6IiLOfVtT",
      "execution_count": 54,
      "outputs": []
    },
    {
      "cell_type": "markdown",
      "id": "876ab787",
      "metadata": {
        "id": "876ab787"
      },
      "source": [
        "\n",
        "## Составление матрицы BLOSUM\n",
        "\n",
        "### Шаг 4.1: Заполнение матрицы\n",
        "\n",
        "- Реализуйте функцию `create_blosum_matrix`, для создания BLOSUM матрицы.\n",
        "- Используйте рассчитанные ранее логарифмические коэффициенты `scores` для заполнения матрицы.\n",
        "- Учитывайте, что матрица симметрична: `S(x, y) = S(y, x)`.\n",
        "\n",
        "**Пример:**\n",
        "\n",
        "```python\n",
        "blosum_matrix = create_blosum_matrix(scores, nucleotides)\n",
        "blosum_matrix\n",
        "{'A': {'A': 5, 'G': 1, 'C': 0, 'T': -3},\n",
        " 'G': {'A': 1, 'G': 5, 'C': 0, 'T': 0},\n",
        " 'C': {'A': 0, 'G': 0, 'C': 3, 'T': -3},\n",
        " 'T': {'A': -3, 'G': 0, 'C': -3, 'T': 6}}\n",
        "```\n"
      ]
    },
    {
      "cell_type": "code",
      "execution_count": 55,
      "id": "e28e3f2c",
      "metadata": {
        "ExecuteTime": {
          "end_time": "2024-09-20T07:49:45.687263Z",
          "start_time": "2024-09-20T07:49:45.676996Z"
        },
        "id": "e28e3f2c"
      },
      "outputs": [],
      "source": [
        "def unique_nucleotides(freqs):\n",
        "    return list(freqs.keys())\n",
        "\n",
        "nucleotides = unique_nucleotides(freqs)\n",
        "\n",
        "def create_blosum_matrix(scores, nucleotides):\n",
        "    blosum_matrix = {nuc1 : ({nuc2 : 0 for nuc2 in nucleotides}) for nuc1 in nucleotides}\n",
        "    for (x,y), score in scores.items():\n",
        "        blosum_matrix[x][y] = score\n",
        "        blosum_matrix[y][x] = score\n",
        "\n",
        "    return blosum_matrix"
      ]
    },
    {
      "cell_type": "code",
      "source": [
        "blosum_matrix = create_blosum_matrix(scores, nucleotides)\n",
        "blosum_matrix"
      ],
      "metadata": {
        "colab": {
          "base_uri": "https://localhost:8080/"
        },
        "id": "_fGoswDYaMAI",
        "outputId": "55ce1265-7781-493b-e8f6-14508fe1405e"
      },
      "id": "_fGoswDYaMAI",
      "execution_count": 56,
      "outputs": [
        {
          "output_type": "execute_result",
          "data": {
            "text/plain": [
              "{'A': {'A': 5, 'G': 1, 'C': -1, 'T': -4},\n",
              " 'G': {'A': 1, 'G': 5, 'C': 0, 'T': -1},\n",
              " 'C': {'A': -1, 'G': 0, 'C': 3, 'T': -4},\n",
              " 'T': {'A': -4, 'G': -1, 'C': -4, 'T': 6}}"
            ]
          },
          "metadata": {},
          "execution_count": 56
        }
      ]
    },
    {
      "cell_type": "code",
      "source": [
        "class TestBlosumMatrix(unittest.TestCase):\n",
        "\n",
        "    def test_unique_nucleotides(self):\n",
        "        freqs = {'A': 0.4, 'G': 0.3, 'C': 0.2, 'T': 0.1}\n",
        "        result = unique_nucleotides(freqs)\n",
        "        expected = ['A', 'G', 'C', 'T']\n",
        "        self.assertEqual(result, expected)\n",
        "\n",
        "    def test_unique_nucleotides_empty(self):\n",
        "        freqs = {}\n",
        "        result = unique_nucleotides(freqs)\n",
        "        expected = []\n",
        "        self.assertEqual(result, expected)\n",
        "\n",
        "    def test_create_blosum_matrix(self):\n",
        "        scores = {('A', 'A'): 5, ('A', 'G'): 1, ('G', 'G'): 5, ('C', 'T'): -3}\n",
        "        nucleotides = ['A', 'G', 'C', 'T']\n",
        "        result = create_blosum_matrix(scores, nucleotides)\n",
        "        expected = {\n",
        "            'A': {'A': 5, 'G': 1, 'C': 0, 'T': 0},\n",
        "            'G': {'A': 1, 'G': 5, 'C': 0, 'T': 0},\n",
        "            'C': {'A': 0, 'G': 0, 'C': 0, 'T': -3},\n",
        "            'T': {'A': 0, 'G': 0, 'C': -3, 'T': 0},\n",
        "        }\n",
        "        self.assertEqual(result, expected)\n",
        "\n",
        "    def test_create_blosum_matrix_empty(self):\n",
        "        scores = {}\n",
        "        nucleotides = ['A', 'G']\n",
        "        result = create_blosum_matrix(scores, nucleotides)\n",
        "        expected = {\n",
        "            'A': {'A': 0, 'G': 0},\n",
        "            'G': {'A': 0, 'G': 0},\n",
        "        }\n",
        "        self.assertEqual(result, expected)"
      ],
      "metadata": {
        "id": "qKlvV9q2e0vO"
      },
      "id": "qKlvV9q2e0vO",
      "execution_count": 57,
      "outputs": []
    },
    {
      "cell_type": "markdown",
      "id": "f3b9efbe",
      "metadata": {
        "ExecuteTime": {
          "end_time": "2024-09-19T07:55:20.436835Z",
          "start_time": "2024-09-19T07:55:20.420618Z"
        },
        "id": "f3b9efbe"
      },
      "source": [
        "### Шаг 4.2: Вывод матрицы\n",
        "\n",
        "- Выведите матрицу BLOSUM в удобочитаемом формате, например, как таблицу с заголовками.\n",
        "\n",
        "**Пример:**\n",
        "\n",
        "```python\n",
        "print_blosum_matrix(blosum_matrix, nucleotides)\n",
        "    A   G   C   T\n",
        "A   5   1   0  -3\n",
        "G   1   5   0   0\n",
        "C   0   0   3  -3\n",
        "T  -3   0  -3   6\n",
        "```"
      ]
    },
    {
      "cell_type": "code",
      "execution_count": 58,
      "id": "93ee6754",
      "metadata": {
        "ExecuteTime": {
          "end_time": "2024-09-20T07:50:02.894882Z",
          "start_time": "2024-09-20T07:50:02.881450Z"
        },
        "id": "93ee6754"
      },
      "outputs": [],
      "source": [
        "def print_blosum_matrix(matrix, nucleotides):\n",
        "    print(\"    \" + \"   \".join(nucleotides))\n",
        "\n",
        "    for nuc1 in nucleotides:\n",
        "        row = [f\"{matrix[nuc1][nuc2]:3}\" for nuc2 in nucleotides]\n",
        "        print(f\"{nuc1} \" + \" \".join(row))"
      ]
    },
    {
      "cell_type": "code",
      "source": [
        "print_blosum_matrix(blosum_matrix, nucleotides)"
      ],
      "metadata": {
        "colab": {
          "base_uri": "https://localhost:8080/"
        },
        "id": "_z_Bl377gUSF",
        "outputId": "3b038857-73dd-4508-81f2-feb11e723b85"
      },
      "id": "_z_Bl377gUSF",
      "execution_count": 59,
      "outputs": [
        {
          "output_type": "stream",
          "name": "stdout",
          "text": [
            "    A   G   C   T\n",
            "A   5   1  -1  -4\n",
            "G   1   5   0  -1\n",
            "C  -1   0   3  -4\n",
            "T  -4  -1  -4   6\n"
          ]
        }
      ]
    },
    {
      "cell_type": "markdown",
      "id": "990c0c7a",
      "metadata": {
        "id": "990c0c7a"
      },
      "source": [
        "## Визуализация результатов\n",
        "\n",
        "Запустите код для визуализации результатов. Потребуется установить пакеты через `pip install numpy`"
      ]
    },
    {
      "cell_type": "code",
      "source": [
        "import numpy as np\n",
        "import seaborn as sns\n",
        "import matplotlib.pyplot as plt"
      ],
      "metadata": {
        "id": "kwIJtWVehFAm"
      },
      "id": "kwIJtWVehFAm",
      "execution_count": 60,
      "outputs": []
    },
    {
      "cell_type": "code",
      "execution_count": 61,
      "id": "e6dc51ef",
      "metadata": {
        "ExecuteTime": {
          "end_time": "2024-09-20T07:50:05.193727Z",
          "start_time": "2024-09-20T07:50:05.053305Z"
        },
        "id": "e6dc51ef"
      },
      "outputs": [],
      "source": [
        "def visualize_blosum_matrix(matrix, nucleotides):\n",
        "    data = np.array([[matrix[x][y] for y in nucleotides] for x in nucleotides])\n",
        "\n",
        "    plt.figure(figsize=(8, 6))\n",
        "    plt.imshow(data, cmap=\"coolwarm\", interpolation='nearest')\n",
        "\n",
        "    for i in range(len(nucleotides)):\n",
        "        for j in range(len(nucleotides)):\n",
        "            plt.text(j, i, f'{data[i, j]:.0f}', ha='center', va='center', color='black')\n",
        "\n",
        "    plt.xticks(np.arange(len(nucleotides)), nucleotides)\n",
        "    plt.yticks(np.arange(len(nucleotides)), nucleotides)\n",
        "    plt.colorbar()\n",
        "    plt.title(\"Матрица BLOSUM\")\n",
        "    plt.show()"
      ]
    },
    {
      "cell_type": "code",
      "source": [
        "visualize_blosum_matrix(blosum_matrix, nucleotides)"
      ],
      "metadata": {
        "colab": {
          "base_uri": "https://localhost:8080/",
          "height": 545
        },
        "id": "SNmvTUv8g_n5",
        "outputId": "966c7b76-295e-4341-fabe-69e9aef397cf"
      },
      "id": "SNmvTUv8g_n5",
      "execution_count": 62,
      "outputs": [
        {
          "output_type": "display_data",
          "data": {
            "text/plain": [
              "<Figure size 800x600 with 2 Axes>"
            ],
            "image/png": "[encoded data removed]"
          },
          "metadata": {}
        }
      ]
    },
    {
      "cell_type": "markdown",
      "id": "ea3ccc74",
      "metadata": {
        "id": "ea3ccc74"
      },
      "source": [
        "# Реализация алгоритма Нидлмана-Вунша"
      ]
    },
    {
      "cell_type": "markdown",
      "id": "5c4b370c",
      "metadata": {
        "id": "5c4b370c"
      },
      "source": [
        "### Шаг 5: Инициализация матрицы динамического программирования\n",
        "\n",
        "Теперь перейдём к реализации алгоритма [Нидлмана-Вунша](https://en.wikipedia.org/wiki/Needleman%E2%80%93Wunsch_algorithm).\n",
        "\n",
        "Реализуйте функцию `init`, которая по $m, n$ и ошибке $\\sigma$ строит матрицу c $m + 1$ строкой и $n + 1$ столбцом:\n",
        "\n",
        "$$A_{m,n} = \\begin{pmatrix} 0 & -\\sigma & \\cdots & -n \\sigma \\\\ -\\sigma & 0 & \\cdots & 0 \\\\ \\vdots & \\vdots & \\ddots & \\vdots \\\\ -m\\sigma & 0 & \\cdots & 0 \\end{pmatrix} $$\n",
        "\n",
        "**Пример:**\n",
        "\n",
        "```python\n",
        "print(init(3, 3, 4))\n",
        "[[0, -4, -8, -12], [-4, 0, 0, 0], [-8, 0, 0, 0], [-12, 0, 0, 0]]\n",
        "```"
      ]
    },
    {
      "cell_type": "code",
      "execution_count": 63,
      "id": "c283ca17",
      "metadata": {
        "ExecuteTime": {
          "end_time": "2024-09-20T07:42:13.891859Z",
          "start_time": "2024-09-20T07:42:13.889917Z"
        },
        "id": "c283ca17"
      },
      "outputs": [],
      "source": [
        "def init(rows, cols, gap_penalty=10):\n",
        "    matrix = [[0] * (cols + 1) for _ in range(rows + 1)]\n",
        "\n",
        "    for j in range(1, cols + 1):\n",
        "        matrix[0][j] = -j * gap_penalty\n",
        "\n",
        "    for i in range(1, rows + 1):\n",
        "        matrix[i][0] = -i * gap_penalty\n",
        "\n",
        "    return matrix"
      ]
    },
    {
      "cell_type": "code",
      "source": [
        "print(init(3, 3, 4))"
      ],
      "metadata": {
        "colab": {
          "base_uri": "https://localhost:8080/"
        },
        "id": "XrrbrE7ghbgt",
        "outputId": "dd0b5dce-13e3-4f93-e7a4-f0e1eda9c157"
      },
      "id": "XrrbrE7ghbgt",
      "execution_count": 64,
      "outputs": [
        {
          "output_type": "stream",
          "name": "stdout",
          "text": [
            "[[0, -4, -8, -12], [-4, 0, 0, 0], [-8, 0, 0, 0], [-12, 0, 0, 0]]\n"
          ]
        }
      ]
    },
    {
      "cell_type": "code",
      "source": [
        "class TestInitMatrix(unittest.TestCase):\n",
        "\n",
        "    def test_3x3_matrix_with_default_gap(self):\n",
        "        expected = [[0, -10, -20, -30],\n",
        "                    [-10, 0, 0, 0],\n",
        "                    [-20, 0, 0, 0],\n",
        "                    [-30, 0, 0, 0]]\n",
        "        result = init(3, 3)\n",
        "        self.assertEqual(result, expected)\n",
        "\n",
        "    def test_4x4_matrix_with_gap_penalty_5(self):\n",
        "        expected = [[0, -5, -10, -15, -20],\n",
        "                    [-5, 0, 0, 0, 0],\n",
        "                    [-10, 0, 0, 0, 0],\n",
        "                    [-15, 0, 0, 0, 0],\n",
        "                    [-20, 0, 0, 0, 0]]\n",
        "        result = init(4, 4, gap_penalty=5)\n",
        "        self.assertEqual(result, expected)\n",
        "\n",
        "    def test_1x1_matrix(self):\n",
        "        expected = [[0, -10],\n",
        "                    [-10, 0]]\n",
        "        result = init(1, 1)\n",
        "        self.assertEqual(result, expected)\n",
        "\n",
        "    def test_5x3_matrix_with_gap_penalty_2(self):\n",
        "        expected = [[0, -2, -4, -6],\n",
        "                    [-2, 0, 0, 0],\n",
        "                    [-4, 0, 0, 0],\n",
        "                    [-6, 0, 0, 0],\n",
        "                    [-8, 0, 0, 0],\n",
        "                    [-10, 0, 0, 0]]\n",
        "        result = init(5, 3, gap_penalty=2)\n",
        "        self.assertEqual(result, expected)\n",
        "\n",
        "    def test_0x0_matrix(self):\n",
        "        expected = [[0]]\n",
        "        result = init(0, 0)\n",
        "        self.assertEqual(result, expected)"
      ],
      "metadata": {
        "id": "9z2zVF9sh8Xp"
      },
      "id": "9z2zVF9sh8Xp",
      "execution_count": 65,
      "outputs": []
    },
    {
      "cell_type": "markdown",
      "id": "bfeb18d8",
      "metadata": {
        "ExecuteTime": {
          "end_time": "2024-09-20T05:07:36.025808Z",
          "start_time": "2024-09-20T05:07:36.015828Z"
        },
        "id": "bfeb18d8"
      },
      "source": [
        "### Шаг 6: Заполнение матрицы динамического программирования"
      ]
    },
    {
      "cell_type": "markdown",
      "id": "6cf519aa",
      "metadata": {
        "id": "6cf519aa"
      },
      "source": [
        "Пусть `a` и `b` - две последовательности, которые хотим выравнять. Теперь имея пустую матрицу, нужно научиться её заполнять. Для этого вспомним, как вычисляется очередной элемент матрицы:\n",
        "\n",
        "$$A_{i \\ j} = max \\begin{cases} A_{i-1 \\ j-1} + s(a_{i},b_{j}) & \\ \\text{Match / Mismatch}\\\\ A_{i \\ j-1} - \\sigma & \\ \\text{Insertion} \\\\ A_{i-1\\ j} - \\sigma & \\ \\text{Deletion} \\end{cases}$$\n",
        "\n",
        "где $s(a_{i},b_{j})$ - значение матрицы BLOSUM для нуклеотидов $a_{i}$ и $b_{j}$, $\\sigma$ - штраф за пропуск символа в выравнивании (параметр)"
      ]
    },
    {
      "cell_type": "markdown",
      "id": "29cceaaf",
      "metadata": {
        "id": "29cceaaf"
      },
      "source": [
        "### Шаг 7: Вычисление значения матрицы"
      ]
    },
    {
      "cell_type": "markdown",
      "id": "13d9795b",
      "metadata": {
        "id": "13d9795b"
      },
      "source": [
        "Реализуйте функцию `get_new_score`, которая принимает на вход 5 параметров - `up` ($A_{i-1\\ j}$), `left` ($A_{i \\ j-1}$), `middle` ($A_{i-1 \\ j-1}$), `s_score` ($s(a_{i},b_{j})$), `gap_penalty` ($\\sigma$), и вычисляет значение для матрицы $A_{i\\ j}$\n",
        "\n",
        "**Пример:**\n",
        "\n",
        "```python\n",
        "print(get_new_score(0, 10, 2, 0, 2))\n",
        "8\n",
        "print(get_new_score(-16, -7, -14, 0, 2))\n",
        "-9\n",
        "```"
      ]
    },
    {
      "cell_type": "code",
      "execution_count": 66,
      "id": "6aba390b",
      "metadata": {
        "ExecuteTime": {
          "end_time": "2024-09-20T07:42:13.901858Z",
          "start_time": "2024-09-20T07:42:13.899848Z"
        },
        "id": "6aba390b"
      },
      "outputs": [],
      "source": [
        "def get_new_score(up, left, middle, s_score, gap_penalty):\n",
        "    match_mismatch = middle + s_score\n",
        "    insertion = left - gap_penalty\n",
        "    deletion = up - gap_penalty\n",
        "\n",
        "    return max(match_mismatch, insertion, deletion)"
      ]
    },
    {
      "cell_type": "code",
      "source": [
        "print(get_new_score(0, 10, 2, 0, 2))\n",
        "print(get_new_score(-16, -7, -14, 0, 2))"
      ],
      "metadata": {
        "colab": {
          "base_uri": "https://localhost:8080/"
        },
        "id": "xVqStqpehu1B",
        "outputId": "e4b63bcc-149d-44d5-dd97-742f1ca2c837"
      },
      "id": "xVqStqpehu1B",
      "execution_count": 67,
      "outputs": [
        {
          "output_type": "stream",
          "name": "stdout",
          "text": [
            "8\n",
            "-9\n"
          ]
        }
      ]
    },
    {
      "cell_type": "code",
      "source": [
        "class TestGetNewScore(unittest.TestCase):\n",
        "\n",
        "    def test_match_case(self):\n",
        "        result = get_new_score(5, 7, 10, 2, 1)\n",
        "        self.assertEqual(result, 12)\n",
        "\n",
        "    def test_mismatch_case(self):\n",
        "        result = get_new_score(5, 7, 10, -3, 1)\n",
        "        self.assertEqual(result, 7)\n",
        "\n",
        "    def test_insertion_case(self):\n",
        "        result = get_new_score(3, 10, 5, 0, 2)\n",
        "        self.assertEqual(result, 8)\n",
        "\n",
        "    def test_deletion_case(self):\n",
        "        result = get_new_score(12, 7, 6, 0, 3)\n",
        "        self.assertEqual(result, 9)\n",
        "\n",
        "    def test_all_negative(self):\n",
        "        result = get_new_score(-5, -7, -10, -2, 1)\n",
        "        self.assertEqual(result, -6)\n",
        "\n",
        "    def test_zero_gap_penalty(self):\n",
        "        result = get_new_score(8, 8, 8, 1, 0)\n",
        "        self.assertEqual(result, 9)\n",
        "\n",
        "unittest.main(argv=[''], verbosity=2, exit=False)"
      ],
      "metadata": {
        "colab": {
          "base_uri": "https://localhost:8080/"
        },
        "id": "9EFKrhwpiwhh",
        "outputId": "15e6fb25-8584-46c7-cf0d-d4c83cda27a2"
      },
      "id": "9EFKrhwpiwhh",
      "execution_count": 68,
      "outputs": [
        {
          "output_type": "stream",
          "name": "stderr",
          "text": [
            "test_create_blosum_matrix (__main__.TestBlosumMatrix) ... ok\n",
            "test_create_blosum_matrix_empty (__main__.TestBlosumMatrix) ... ok\n",
            "test_unique_nucleotides (__main__.TestBlosumMatrix) ... ok\n",
            "test_unique_nucleotides_empty (__main__.TestBlosumMatrix) ... ok\n",
            "test_empty_alignments (__main__.TestCalculateFrequencies) ... ok\n",
            "test_mixed_nucleotides (__main__.TestCalculateFrequencies) ... ok\n",
            "test_simple_case (__main__.TestCalculateFrequencies) ... ok\n",
            "test_single_nucleotide (__main__.TestCalculateFrequencies) ... ok\n",
            "test_with_gaps (__main__.TestCalculateFrequencies) ... ok\n",
            "test_basic_case (__main__.TestCalculateScores) ... ok\n",
            "test_all_gaps (__main__.TestCountPairs) ... ok\n",
            "test_example_1 (__main__.TestCountPairs) ... ok\n",
            "test_example_2 (__main__.TestCountPairs) ... ok\n",
            "test_no_pairs (__main__.TestCountPairs) ... ok\n",
            "test_example_1 (__main__.TestGeneratePairs) ... ok\n",
            "test_example_2 (__main__.TestGeneratePairs) ... ok\n",
            "test_example_3 (__main__.TestGeneratePairs) ... ok\n",
            "test_length (__main__.TestGeneratePairs) ... ok\n",
            "test_all_negative (__main__.TestGetNewScore) ... ok\n",
            "test_deletion_case (__main__.TestGetNewScore) ... ok\n",
            "test_insertion_case (__main__.TestGetNewScore) ... ok\n",
            "test_match_case (__main__.TestGetNewScore) ... ok\n",
            "test_mismatch_case (__main__.TestGetNewScore) ... ok\n",
            "test_zero_gap_penalty (__main__.TestGetNewScore) ... ok\n",
            "test_0x0_matrix (__main__.TestInitMatrix) ... ok\n",
            "test_1x1_matrix (__main__.TestInitMatrix) ... ok\n",
            "test_3x3_matrix_with_default_gap (__main__.TestInitMatrix) ... ok\n",
            "test_4x4_matrix_with_gap_penalty_5 (__main__.TestInitMatrix) ... ok\n",
            "test_5x3_matrix_with_gap_penalty_2 (__main__.TestInitMatrix) ... ok\n",
            "\n",
            "----------------------------------------------------------------------\n",
            "Ran 29 tests in 0.116s\n",
            "\n",
            "OK\n"
          ]
        },
        {
          "output_type": "execute_result",
          "data": {
            "text/plain": [
              "<unittest.main.TestProgram at 0x7e2390a7cd60>"
            ]
          },
          "metadata": {},
          "execution_count": 68
        }
      ]
    },
    {
      "cell_type": "markdown",
      "id": "c4efe8f2",
      "metadata": {
        "id": "c4efe8f2"
      },
      "source": [
        "### Шаг 8 Заполнение матрицы"
      ]
    },
    {
      "cell_type": "markdown",
      "id": "2139631a",
      "metadata": {
        "id": "2139631a"
      },
      "source": [
        "Реализуйте функцию `align`,  которая на вход принимает две последовательности ДНК, штраф за пропуск ($\\sigma$), матрицу BLOSUM и возвращает заполненную матрицу `A`.\n",
        "\n",
        "**Пример:**\n",
        "\n",
        "```python\n",
        "top_seq = \"AGTACGCA\"\n",
        "bottom_seq = \"TATGC\"\n",
        "gap_penalty = 2\n",
        "\n",
        "print(align(top_seq, bottom_seq, gap_penalty, blosum_matrix))\n",
        "[[0, -2, -4, -6, -8, -10, -12, -14, -16],\n",
        " [-2, -1, -2, 2, 0, -2, -4, -6, -8],\n",
        " [-4, 2, 0, 0, 6, 4, 2, 0, -2],\n",
        " [-6, 0, 2, 6, 4, 4, 4, 2, 0],\n",
        " [-8, -2, 4, 4, 7, 5, 8, 6, 4],\n",
        " [-10, -4, 2, 2, 5, 9, 7, 10, 8]]\n",
        "```"
      ]
    },
    {
      "cell_type": "code",
      "execution_count": 69,
      "id": "889554a2",
      "metadata": {
        "ExecuteTime": {
          "end_time": "2024-09-20T07:42:13.907603Z",
          "start_time": "2024-09-20T07:42:13.906050Z"
        },
        "id": "889554a2"
      },
      "outputs": [],
      "source": [
        "top_seq = \"AGTACGCA\"\n",
        "bottom_seq = \"TATGC\"\n",
        "gap_penalty = 2"
      ]
    },
    {
      "cell_type": "markdown",
      "source": [],
      "metadata": {
        "id": "dwHuuoqmj1MP"
      },
      "id": "dwHuuoqmj1MP"
    },
    {
      "cell_type": "code",
      "execution_count": 70,
      "id": "e2f22469",
      "metadata": {
        "ExecuteTime": {
          "end_time": "2024-09-20T07:42:13.914057Z",
          "start_time": "2024-09-20T07:42:13.908397Z"
        },
        "id": "e2f22469"
      },
      "outputs": [],
      "source": [
        "def align(top_seq, bottom_seq, gap_penalty, blosum_matrix):\n",
        "    matrix = init(len(top_seq), len(bottom_seq), gap_penalty)\n",
        "\n",
        "    for i in range(1, len(top_seq) + 1):\n",
        "        for j in range(1, len(bottom_seq) + 1):\n",
        "            s_score = blosum_matrix[top_seq[i - 1]][bottom_seq[j - 1]]\n",
        "            matrix[i][j] = get_new_score(\n",
        "                matrix[i - 1][j],\n",
        "                matrix[i][j - 1],\n",
        "                matrix[i - 1][j - 1],\n",
        "                s_score,\n",
        "                gap_penalty\n",
        "            )\n",
        "\n",
        "    return matrix"
      ]
    },
    {
      "cell_type": "code",
      "source": [
        "print(align(top_seq, bottom_seq, gap_penalty, blosum_matrix))"
      ],
      "metadata": {
        "colab": {
          "base_uri": "https://localhost:8080/"
        },
        "id": "rziLBoF4jaQq",
        "outputId": "8b5dc229-db4a-4ff4-a5d3-cbf9d25da74b"
      },
      "id": "rziLBoF4jaQq",
      "execution_count": 71,
      "outputs": [
        {
          "output_type": "stream",
          "name": "stdout",
          "text": [
            "[[0, -2, -4, -6, -8, -10], [-2, -4, 3, 1, -1, -3], [-4, -3, 1, 2, 6, 4], [-6, 2, 0, 7, 5, 3], [-8, 0, 7, 5, 8, 6], [-10, -2, 5, 3, 6, 11], [-12, -4, 3, 4, 8, 9], [-14, -6, 1, 2, 6, 11], [-16, -8, -1, 0, 4, 9]]\n"
          ]
        }
      ]
    },
    {
      "cell_type": "markdown",
      "id": "f68198b6",
      "metadata": {
        "ExecuteTime": {
          "end_time": "2024-09-20T06:44:17.331762Z",
          "start_time": "2024-09-20T06:44:17.321308Z"
        },
        "id": "f68198b6"
      },
      "source": [
        "### Шаг 9: Построение выравнивания\n",
        "\n",
        "Теперь имея матрицу выравнивания построим самое выравнивание.\n",
        "\n",
        "Реализуйте функцию get_alignment, которая по двум последовательностям, матрице выравнивания, штрафа за пропуски, бонусам за совпадение/несовпадение нуклеотидов строит выравнивание.\n",
        "\n",
        "**Пример:**\n",
        "\n",
        "```python\n",
        "\n",
        "top_seq = \"AGTACGCA\"\n",
        "bottom_seq = \"TATGC\"\n",
        "gap_penalty = 2\n",
        "sm = align(top_seq, bottom_seq, gap_penalty, blosum_matrix)\n",
        "aligns = get_alignment(top_seq, bottom_seq, sm, gap_penalty, blosum_matrix)\n",
        "print(aligns[0])\n",
        "print(aligns[1])\n",
        "--TATGC-\n",
        "AGTACGCA\n",
        "\n",
        "top_seq = \"AGTCTCCCCC\"\n",
        "bottom_seq = \"ACTTCTACCCCAGC\"\n",
        "sm = align(top_seq, bottom_seq, gap_penalty, blosum_matrix)\n",
        "aligns = get_alignment(top_seq, bottom_seq, sm, gap_penalty, blosum_matrix)\n",
        "print(aligns[0])\n",
        "print(aligns[1])\n",
        "ACTTCTACCCCAGC\n",
        "AGT-CT-CCCC--C\n",
        "```"
      ]
    },
    {
      "cell_type": "code",
      "execution_count": 72,
      "id": "4449d97e",
      "metadata": {
        "ExecuteTime": {
          "end_time": "2024-09-20T07:42:13.929902Z",
          "start_time": "2024-09-20T07:42:13.928023Z"
        },
        "id": "4449d97e"
      },
      "outputs": [],
      "source": [
        "def get_alignment(top_seq, bottom_seq, sm, gap_penalty, blosum_matrix):\n",
        "    aligned_top = []\n",
        "    aligned_bottom = []\n",
        "    i, j = len(top_seq), len(bottom_seq)\n",
        "\n",
        "    while i > 0 or j > 0:\n",
        "        if i > 0 and j > 0:\n",
        "            x = top_seq[i - 1]\n",
        "            y = bottom_seq[j - 1]\n",
        "\n",
        "        if i > 0 and j > 0 and sm[i][j] == sm[i - 1][j - 1] + blosum_matrix[x][y]:\n",
        "            aligned_bottom.append(x)\n",
        "            aligned_top.append(y)\n",
        "            i -= 1\n",
        "            j -= 1\n",
        "        elif j > 0 and sm[i][j] == sm[i][j - 1] - gap_penalty:\n",
        "            aligned_bottom.append('-')\n",
        "            aligned_top.append(y)\n",
        "            j -= 1\n",
        "        else:\n",
        "            aligned_bottom.append(x)\n",
        "            aligned_top.append('-')\n",
        "            i -= 1\n",
        "\n",
        "    aligned_top.reverse()\n",
        "    aligned_bottom.reverse()\n",
        "\n",
        "    return \"\".join(aligned_top), \"\".join(aligned_bottom)"
      ]
    },
    {
      "cell_type": "code",
      "source": [
        "top_seq = \"AGTACGCA\"\n",
        "bottom_seq = \"TATGC\"\n",
        "gap_penalty = 2\n",
        "sm = align(top_seq, bottom_seq, gap_penalty, blosum_matrix)\n",
        "aligns = get_alignment(top_seq, bottom_seq, sm, gap_penalty, blosum_matrix)\n",
        "print(aligns[0])\n",
        "print(aligns[1])"
      ],
      "metadata": {
        "colab": {
          "base_uri": "https://localhost:8080/"
        },
        "id": "lyXksiwSou6_",
        "outputId": "29fa6431-7833-4011-b2dc-0b6067a691af"
      },
      "id": "lyXksiwSou6_",
      "execution_count": 73,
      "outputs": [
        {
          "output_type": "stream",
          "name": "stdout",
          "text": [
            "--TATGC-\n",
            "TTTACGCA\n"
          ]
        }
      ]
    },
    {
      "cell_type": "code",
      "source": [
        "top_seq = \"AGTCTCCCCC\"\n",
        "bottom_seq = \"ACTTCTACCCCAGC\"\n",
        "sm = align(top_seq, bottom_seq, gap_penalty, blosum_matrix)\n",
        "aligns = get_alignment(top_seq, bottom_seq, sm, gap_penalty, blosum_matrix)\n",
        "print(aligns[0])\n",
        "print(aligns[1])"
      ],
      "metadata": {
        "colab": {
          "base_uri": "https://localhost:8080/"
        },
        "id": "aT374g0TlnpK",
        "outputId": "5f80123f-bc24-4367-e061-8f26e83e966d"
      },
      "id": "aT374g0TlnpK",
      "execution_count": 74,
      "outputs": [
        {
          "output_type": "stream",
          "name": "stdout",
          "text": [
            "ACTTCTACCCCAGC\n",
            "AG-TCT-CCCC--C\n"
          ]
        }
      ]
    },
    {
      "cell_type": "markdown",
      "id": "0c8daed3",
      "metadata": {
        "ExecuteTime": {
          "end_time": "2024-09-20T08:00:23.468052Z",
          "start_time": "2024-09-20T08:00:23.453507Z"
        },
        "id": "0c8daed3"
      },
      "source": [
        "## Поздравляю! Мы научились выравнивать ДНК!"
      ]
    }
  ],
  "metadata": {
    "kernelspec": {
      "display_name": "Python 3 (ipykernel)",
      "language": "python",
      "name": "python3"
    },
    "language_info": {
      "codemirror_mode": {
        "name": "ipython",
        "version": 3
      },
      "file_extension": ".py",
      "mimetype": "text/x-python",
      "name": "python",
      "nbconvert_exporter": "python",
      "pygments_lexer": "ipython3",
      "version": "3.9.7"
    },
    "colab": {
      "provenance": []
    }
  },
  "nbformat": 4,
  "nbformat_minor": 5
}